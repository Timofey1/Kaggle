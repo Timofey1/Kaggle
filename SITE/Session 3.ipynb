{
 "cells": [
  {
   "cell_type": "markdown",
   "metadata": {},
   "source": [
    "# Сессия 3"
   ]
  },
  {
   "cell_type": "markdown",
   "metadata": {},
   "source": [
    "Импорты"
   ]
  },
  {
   "cell_type": "code",
   "execution_count": 128,
   "metadata": {},
   "outputs": [],
   "source": [
    "import pandas as pd \n",
    "import numpy as np\n",
    "import matplotlib.pyplot as plt\n",
    "%matplotlib inline\n",
    "import seaborn as sns"
   ]
  },
  {
   "cell_type": "markdown",
   "metadata": {},
   "source": [
    "Загрузка данных"
   ]
  },
  {
   "cell_type": "code",
   "execution_count": 2,
   "metadata": {},
   "outputs": [],
   "source": [
    "sample = pd.read_csv(\"./КЗ Юниоры/Сессия3/sample.csv\")"
   ]
  },
  {
   "cell_type": "code",
   "execution_count": 71,
   "metadata": {},
   "outputs": [],
   "source": [
    "train = pd.read_csv(\"train.csv\", index_col=0)\n",
    "test =  pd.read_csv(\"test.csv\", index_col=0)\n",
    "site = pd.read_pickle(\"КЗ Юниоры/Сессия1/site.pkl\")"
   ]
  },
  {
   "cell_type": "code",
   "execution_count": 88,
   "metadata": {},
   "outputs": [],
   "source": [
    "from sklearn.pipeline import Pipeline\n",
    "from sklearn.metrics import accuracy_score\n",
    "from sklearn.metrics import cohen_kappa_score\n",
    "from sklearn.metrics import f1_score\n",
    "\n",
    "\n",
    "from sklearn.linear_model import LogisticRegression\n",
    "from sklearn.neighbors import KNeighborsClassifier  \n",
    "from sklearn.ensemble import RandomForestClassifier"
   ]
  },
  {
   "cell_type": "markdown",
   "metadata": {},
   "source": [
    "Разобьем тренировочный датасет на признаки и целевую переменную. Далее разобьем данные на обучающую и отложенную выборки используя `train_test_split`"
   ]
  },
  {
   "cell_type": "code",
   "execution_count": 11,
   "metadata": {},
   "outputs": [],
   "source": [
    "X = train.drop([\"session_id\", \"target\"], axis=1)"
   ]
  },
  {
   "cell_type": "code",
   "execution_count": 13,
   "metadata": {},
   "outputs": [],
   "source": [
    "y = train.target"
   ]
  },
  {
   "cell_type": "code",
   "execution_count": 15,
   "metadata": {},
   "outputs": [],
   "source": [
    "from sklearn.model_selection import train_test_split"
   ]
  },
  {
   "cell_type": "code",
   "execution_count": 78,
   "metadata": {},
   "outputs": [],
   "source": [
    "X_train, X_val, y_train, y_val = train_test_split(X, y, test_size=0.33, random_state=42, stratify=y)"
   ]
  },
  {
   "cell_type": "markdown",
   "metadata": {},
   "source": [
    "У нас есть одна проблема, данный датасет не является сбалансированным, то есть на 200 тыс сессий с таргетом 0 мы имееи всего 3 тыс сессий с таргетом 1. К сожалению скорей всего создать синтетические образы не выйдет, так как на целевую влияют как затраченое нанее время, так и сайты посещенные пользователем. Поэтому для улучшения работы я буду во-первых использовать сбалансированные веса для моделей, а во-вторых будем использовать метрики f1_score и cohen_kappa_score, которые лучше справляются с несбалансированными данными. метрика точности же будет скорей всего показывать точность приблеженную к 100% потому то модель будет считать что в нашем случае проще поставить везде 0 и она угадает."
   ]
  },
  {
   "cell_type": "code",
   "execution_count": 79,
   "metadata": {},
   "outputs": [
    {
     "data": {
      "text/plain": [
       "0    228794\n",
       "1      2258\n",
       "Name: target, dtype: int64"
      ]
     },
     "execution_count": 79,
     "metadata": {},
     "output_type": "execute_result"
    }
   ],
   "source": [
    "train.target.value_counts()"
   ]
  },
  {
   "cell_type": "markdown",
   "metadata": {},
   "source": [
    "модели: логистическая регрессия, которая также подходит для классификации, также классификатор К-ближайших соседей, и случайный лес"
   ]
  },
  {
   "cell_type": "code",
   "execution_count": 93,
   "metadata": {},
   "outputs": [],
   "source": [
    "models = [LogisticRegression(class_weight=\"balanced\"),\n",
    "          KNeighborsClassifier(weights=\"distance\"), \n",
    "          RandomForestClassifier(random_state=42, class_weight=\"balanced\"), \n",
    "          ]"
   ]
  },
  {
   "cell_type": "code",
   "execution_count": 94,
   "metadata": {},
   "outputs": [
    {
     "name": "stdout",
     "output_type": "stream",
     "text": [
      "LogisticRegression(class_weight='balanced')\n",
      "accuracy_score 0.39635137970832024\n",
      "kappa 0.005497125643768586\n",
      "f1 0.024624382801076525\n",
      "KNeighborsClassifier(weights='distance')\n",
      "accuracy_score 0.9896784177945651\n",
      "kappa 0.013716186591260393\n",
      "f1 0.015018773466833543\n",
      "RandomForestClassifier(class_weight='balanced', random_state=42)\n",
      "accuracy_score 0.9905702444654286\n",
      "kappa 0.0808652257861121\n",
      "f1 0.08173690932311621\n"
     ]
    }
   ],
   "source": [
    "TestModels = pd.DataFrame()\n",
    "temp = {}\n",
    "for model in models:\n",
    "    m = str(model)\n",
    "    print(m)\n",
    "    temp['Model'] = m[:m.index('(')]\n",
    "    \n",
    "    clf = model.fit(X_train,y_train)\n",
    "    pred = clf.predict(X_val)\n",
    "    \n",
    "    temp['accuracy_score'] = accuracy_score(pred, y_val)\n",
    "    print('accuracy_score', accuracy_score(pred, y_val))\n",
    "    temp[\"kappa\"] = cohen_kappa_score(pred, y_val)\n",
    "    print('kappa', cohen_kappa_score(pred, y_val))\n",
    "    temp[\"f1\"] = f1_score(pred, y_val)\n",
    "    print('f1', f1_score(pred, y_val))\n",
    "\n",
    "    TestModels = TestModels.append([temp])\n",
    "TestModels.set_index('Model', inplace=True)"
   ]
  },
  {
   "cell_type": "markdown",
   "metadata": {},
   "source": [
    "Из графика видно что наша подходящая метрика это скорей всего F1_score и лучше всего показал себя случайный лес, так что будем с этой моделью и работать "
   ]
  },
  {
   "cell_type": "code",
   "execution_count": 95,
   "metadata": {},
   "outputs": [
    {
     "data": {
      "text/plain": [
       "<matplotlib.axes._subplots.AxesSubplot at 0x183bbad1608>"
      ]
     },
     "execution_count": 95,
     "metadata": {},
     "output_type": "execute_result"
    },
    {
     "data": {
      "image/png": "[encoded data removed]",
      "text/plain": [
       "<Figure size 432x288 with 1 Axes>"
      ]
     },
     "metadata": {
      "needs_background": "light"
     },
     "output_type": "display_data"
    }
   ],
   "source": [
    "TestModels.plot()"
   ]
  },
  {
   "cell_type": "code",
   "execution_count": 29,
   "metadata": {},
   "outputs": [],
   "source": [
    "rfc = models[2]"
   ]
  },
  {
   "cell_type": "code",
   "execution_count": 57,
   "metadata": {},
   "outputs": [],
   "source": []
  },
  {
   "cell_type": "code",
   "execution_count": 58,
   "metadata": {},
   "outputs": [],
   "source": []
  },
  {
   "cell_type": "code",
   "execution_count": 59,
   "metadata": {},
   "outputs": [],
   "source": [
    "Id = test.session_id"
   ]
  },
  {
   "cell_type": "code",
   "execution_count": 61,
   "metadata": {},
   "outputs": [],
   "source": [
    "sample = pd.DataFrame({\"session_id\":Id, \"target\":tar})"
   ]
  },
  {
   "cell_type": "code",
   "execution_count": 70,
   "metadata": {},
   "outputs": [
    {
     "data": {
      "text/html": [
       "<div>\n",
       "<style scoped>\n",
       "    .dataframe tbody tr th:only-of-type {\n",
       "        vertical-align: middle;\n",
       "    }\n",
       "\n",
       "    .dataframe tbody tr th {\n",
       "        vertical-align: top;\n",
       "    }\n",
       "\n",
       "    .dataframe thead th {\n",
       "        text-align: right;\n",
       "    }\n",
       "</style>\n",
       "<table border=\"1\" class=\"dataframe\">\n",
       "  <thead>\n",
       "    <tr style=\"text-align: right;\">\n",
       "      <th></th>\n",
       "      <th>session_id</th>\n",
       "      <th>target</th>\n",
       "    </tr>\n",
       "  </thead>\n",
       "  <tbody>\n",
       "    <tr>\n",
       "      <th>0</th>\n",
       "      <td>1</td>\n",
       "      <td>0.04</td>\n",
       "    </tr>\n",
       "    <tr>\n",
       "      <th>1</th>\n",
       "      <td>2</td>\n",
       "      <td>0.00</td>\n",
       "    </tr>\n",
       "    <tr>\n",
       "      <th>2</th>\n",
       "      <td>3</td>\n",
       "      <td>0.00</td>\n",
       "    </tr>\n",
       "    <tr>\n",
       "      <th>3</th>\n",
       "      <td>4</td>\n",
       "      <td>0.00</td>\n",
       "    </tr>\n",
       "    <tr>\n",
       "      <th>4</th>\n",
       "      <td>5</td>\n",
       "      <td>0.00</td>\n",
       "    </tr>\n",
       "    <tr>\n",
       "      <th>...</th>\n",
       "      <td>...</td>\n",
       "      <td>...</td>\n",
       "    </tr>\n",
       "    <tr>\n",
       "      <th>74801</th>\n",
       "      <td>82792</td>\n",
       "      <td>0.03</td>\n",
       "    </tr>\n",
       "    <tr>\n",
       "      <th>74802</th>\n",
       "      <td>82794</td>\n",
       "      <td>0.00</td>\n",
       "    </tr>\n",
       "    <tr>\n",
       "      <th>74803</th>\n",
       "      <td>82795</td>\n",
       "      <td>0.00</td>\n",
       "    </tr>\n",
       "    <tr>\n",
       "      <th>74804</th>\n",
       "      <td>82796</td>\n",
       "      <td>0.00</td>\n",
       "    </tr>\n",
       "    <tr>\n",
       "      <th>74805</th>\n",
       "      <td>82797</td>\n",
       "      <td>0.00</td>\n",
       "    </tr>\n",
       "  </tbody>\n",
       "</table>\n",
       "<p>74806 rows × 2 columns</p>\n",
       "</div>"
      ],
      "text/plain": [
       "       session_id  target\n",
       "0               1    0.04\n",
       "1               2    0.00\n",
       "2               3    0.00\n",
       "3               4    0.00\n",
       "4               5    0.00\n",
       "...           ...     ...\n",
       "74801       82792    0.03\n",
       "74802       82794    0.00\n",
       "74803       82795    0.00\n",
       "74804       82796    0.00\n",
       "74805       82797    0.00\n",
       "\n",
       "[74806 rows x 2 columns]"
      ]
     },
     "execution_count": 70,
     "metadata": {},
     "output_type": "execute_result"
    }
   ],
   "source": [
    "sample"
   ]
  },
  {
   "cell_type": "code",
   "execution_count": 102,
   "metadata": {},
   "outputs": [],
   "source": [
    "RFC = RandomForestClassifier(random_state=42)"
   ]
  },
  {
   "cell_type": "code",
   "execution_count": 136,
   "metadata": {},
   "outputs": [],
   "source": [
    "params = { \n",
    "    'n_estimators': [200, 500],\n",
    "    'max_features': ['auto', 'sqrt', 'log2'],\n",
    "    'max_depth' : [4,5,6,7,8,9, 10,11,15],\n",
    "    'criterion' :['gini', 'entropy']\n",
    "}"
   ]
  },
  {
   "cell_type": "code",
   "execution_count": 137,
   "metadata": {},
   "outputs": [],
   "source": [
    "def paramsearch(model):\n",
    "    clf = model\n",
    "    clf = clf.fit(X_train, y_train)\n",
    "    pred = clf.predict(X_val)\n",
    "    # print('accuracy_score', accuracy_score(pred, ytest))\n",
    "    return accuracy_score(pred, y_val), f1_score(pred, y_val), cohen_kappa_score(pred, y_val)"
   ]
  },
  {
   "cell_type": "code",
   "execution_count": 138,
   "metadata": {},
   "outputs": [
    {
     "name": "stdout",
     "output_type": "stream",
     "text": [
      "dddddddddddddddddddddddddddddddddddddddddddddddddddddddddddddddddddddddddddddddddddddddddddddddddddddddddddd"
     ]
    }
   ],
   "source": [
    "rfdf = pd.DataFrame()\n",
    "tmp = {}\n",
    "for n in params[\"n_estimators\"]:\n",
    "    for mf in params[\"max_features\"]:\n",
    "        for md in params[\"max_depth\"]:\n",
    "            for c in params[\"criterion\"]:\n",
    "                tmp[\"n_estimators\"] = n\n",
    "                tmp[\"max_features\"] = mf\n",
    "                tmp[\"max_depth\"] = md\n",
    "                tmp[\"criterion\"] = c\n",
    "\n",
    "                RFC.n_estimators = n\n",
    "                RFC.max_features = mf\n",
    "                RFC.max_depth = md\n",
    "                RFC.criterion = c\n",
    "\n",
    "                ac, f, kappa = paramsearch(RFC)\n",
    "                tmp[\"acc\"] = ac\n",
    "                tmp[\"f1\"] = f\n",
    "                tmp[\"kappa\"] = kappa\n",
    "                rfdf = rfdf.append([tmp])\n",
    "                print(\"d\", end=\"\")\n"
   ]
  },
  {
   "cell_type": "markdown",
   "metadata": {},
   "source": [
    "График зависимости гиперпараметра max_depth от метрики"
   ]
  },
  {
   "cell_type": "code",
   "execution_count": 139,
   "metadata": {},
   "outputs": [
    {
     "data": {
      "text/plain": [
       "<matplotlib.axes._subplots.AxesSubplot at 0x183cfda59c8>"
      ]
     },
     "execution_count": 139,
     "metadata": {},
     "output_type": "execute_result"
    },
    {
     "data": {
      "image/png": "[encoded data removed]",
      "text/plain": [
       "<Figure size 432x288 with 1 Axes>"
      ]
     },
     "metadata": {
      "needs_background": "light"
     },
     "output_type": "display_data"
    }
   ],
   "source": [
    "sns.lineplot(data=rfdf, x=\"max_depth\", y=\"f1\")"
   ]
  },
  {
   "cell_type": "code",
   "execution_count": 145,
   "metadata": {},
   "outputs": [
    {
     "data": {
      "text/html": [
       "<div>\n",
       "<style scoped>\n",
       "    .dataframe tbody tr th:only-of-type {\n",
       "        vertical-align: middle;\n",
       "    }\n",
       "\n",
       "    .dataframe tbody tr th {\n",
       "        vertical-align: top;\n",
       "    }\n",
       "\n",
       "    .dataframe thead th {\n",
       "        text-align: right;\n",
       "    }\n",
       "</style>\n",
       "<table border=\"1\" class=\"dataframe\">\n",
       "  <thead>\n",
       "    <tr style=\"text-align: right;\">\n",
       "      <th></th>\n",
       "      <th>n_estimators</th>\n",
       "      <th>max_features</th>\n",
       "      <th>max_depth</th>\n",
       "      <th>criterion</th>\n",
       "      <th>acc</th>\n",
       "      <th>f1</th>\n",
       "      <th>kappa</th>\n",
       "    </tr>\n",
       "  </thead>\n",
       "  <tbody>\n",
       "    <tr>\n",
       "      <th>0</th>\n",
       "      <td>200</td>\n",
       "      <td>auto</td>\n",
       "      <td>15</td>\n",
       "      <td>gini</td>\n",
       "      <td>0.990911</td>\n",
       "      <td>0.145499</td>\n",
       "      <td>0.144138</td>\n",
       "    </tr>\n",
       "    <tr>\n",
       "      <th>0</th>\n",
       "      <td>200</td>\n",
       "      <td>sqrt</td>\n",
       "      <td>15</td>\n",
       "      <td>gini</td>\n",
       "      <td>0.990911</td>\n",
       "      <td>0.145499</td>\n",
       "      <td>0.144138</td>\n",
       "    </tr>\n",
       "    <tr>\n",
       "      <th>0</th>\n",
       "      <td>200</td>\n",
       "      <td>log2</td>\n",
       "      <td>15</td>\n",
       "      <td>gini</td>\n",
       "      <td>0.990911</td>\n",
       "      <td>0.145499</td>\n",
       "      <td>0.144138</td>\n",
       "    </tr>\n",
       "    <tr>\n",
       "      <th>0</th>\n",
       "      <td>500</td>\n",
       "      <td>auto</td>\n",
       "      <td>15</td>\n",
       "      <td>gini</td>\n",
       "      <td>0.990911</td>\n",
       "      <td>0.145499</td>\n",
       "      <td>0.144138</td>\n",
       "    </tr>\n",
       "    <tr>\n",
       "      <th>0</th>\n",
       "      <td>500</td>\n",
       "      <td>sqrt</td>\n",
       "      <td>15</td>\n",
       "      <td>gini</td>\n",
       "      <td>0.990911</td>\n",
       "      <td>0.145499</td>\n",
       "      <td>0.144138</td>\n",
       "    </tr>\n",
       "    <tr>\n",
       "      <th>0</th>\n",
       "      <td>500</td>\n",
       "      <td>log2</td>\n",
       "      <td>15</td>\n",
       "      <td>gini</td>\n",
       "      <td>0.990911</td>\n",
       "      <td>0.145499</td>\n",
       "      <td>0.144138</td>\n",
       "    </tr>\n",
       "  </tbody>\n",
       "</table>\n",
       "</div>"
      ],
      "text/plain": [
       "   n_estimators max_features  max_depth criterion       acc        f1  \\\n",
       "0           200         auto         15      gini  0.990911  0.145499   \n",
       "0           200         sqrt         15      gini  0.990911  0.145499   \n",
       "0           200         log2         15      gini  0.990911  0.145499   \n",
       "0           500         auto         15      gini  0.990911  0.145499   \n",
       "0           500         sqrt         15      gini  0.990911  0.145499   \n",
       "0           500         log2         15      gini  0.990911  0.145499   \n",
       "\n",
       "      kappa  \n",
       "0  0.144138  \n",
       "0  0.144138  \n",
       "0  0.144138  \n",
       "0  0.144138  \n",
       "0  0.144138  \n",
       "0  0.144138  "
      ]
     },
     "execution_count": 145,
     "metadata": {},
     "output_type": "execute_result"
    }
   ],
   "source": [
    "rfdf[rfdf.f1 == rfdf.f1.max()]"
   ]
  },
  {
   "cell_type": "code",
   "execution_count": 140,
   "metadata": {},
   "outputs": [],
   "source": [
    "RFC = RandomForestClassifier(random_state=42,n_estimators=500, max_features=\"auto\", max_depth=15, criterion=\"gini\", bootstrap=False)"
   ]
  },
  {
   "cell_type": "code",
   "execution_count": 141,
   "metadata": {},
   "outputs": [
    {
     "data": {
      "text/plain": [
       "RandomForestClassifier(bootstrap=False, max_depth=15, n_estimators=500,\n",
       "                       random_state=42)"
      ]
     },
     "execution_count": 141,
     "metadata": {},
     "output_type": "execute_result"
    }
   ],
   "source": [
    "RFC.fit(X_train, y_train)"
   ]
  },
  {
   "cell_type": "code",
   "execution_count": 142,
   "metadata": {},
   "outputs": [],
   "source": [
    "pr = RFC.predict_proba(test.drop([\"session_id\"], axis=1))"
   ]
  },
  {
   "cell_type": "code",
   "execution_count": 143,
   "metadata": {},
   "outputs": [],
   "source": [
    "tar = []\n",
    "for i in pr:\n",
    "    tar.append(i[1])\n",
    "    \n",
    "Id = test.session_id\n",
    "\n",
    "sample = pd.DataFrame({\"session_id\":Id, \"target\":tar})"
   ]
  },
  {
   "cell_type": "markdown",
   "metadata": {},
   "source": [
    "прогноз предсказанных вероятностей"
   ]
  },
  {
   "cell_type": "code",
   "execution_count": 144,
   "metadata": {},
   "outputs": [
    {
     "data": {
      "text/html": [
       "<div>\n",
       "<style scoped>\n",
       "    .dataframe tbody tr th:only-of-type {\n",
       "        vertical-align: middle;\n",
       "    }\n",
       "\n",
       "    .dataframe tbody tr th {\n",
       "        vertical-align: top;\n",
       "    }\n",
       "\n",
       "    .dataframe thead th {\n",
       "        text-align: right;\n",
       "    }\n",
       "</style>\n",
       "<table border=\"1\" class=\"dataframe\">\n",
       "  <thead>\n",
       "    <tr style=\"text-align: right;\">\n",
       "      <th></th>\n",
       "      <th>session_id</th>\n",
       "      <th>target</th>\n",
       "    </tr>\n",
       "  </thead>\n",
       "  <tbody>\n",
       "    <tr>\n",
       "      <th>0</th>\n",
       "      <td>1</td>\n",
       "      <td>0.005070</td>\n",
       "    </tr>\n",
       "    <tr>\n",
       "      <th>1</th>\n",
       "      <td>2</td>\n",
       "      <td>0.000000</td>\n",
       "    </tr>\n",
       "    <tr>\n",
       "      <th>2</th>\n",
       "      <td>3</td>\n",
       "      <td>0.000146</td>\n",
       "    </tr>\n",
       "    <tr>\n",
       "      <th>3</th>\n",
       "      <td>4</td>\n",
       "      <td>0.003233</td>\n",
       "    </tr>\n",
       "    <tr>\n",
       "      <th>4</th>\n",
       "      <td>5</td>\n",
       "      <td>0.002998</td>\n",
       "    </tr>\n",
       "    <tr>\n",
       "      <th>...</th>\n",
       "      <td>...</td>\n",
       "      <td>...</td>\n",
       "    </tr>\n",
       "    <tr>\n",
       "      <th>74801</th>\n",
       "      <td>82792</td>\n",
       "      <td>0.022158</td>\n",
       "    </tr>\n",
       "    <tr>\n",
       "      <th>74802</th>\n",
       "      <td>82794</td>\n",
       "      <td>0.000408</td>\n",
       "    </tr>\n",
       "    <tr>\n",
       "      <th>74803</th>\n",
       "      <td>82795</td>\n",
       "      <td>0.010993</td>\n",
       "    </tr>\n",
       "    <tr>\n",
       "      <th>74804</th>\n",
       "      <td>82796</td>\n",
       "      <td>0.009996</td>\n",
       "    </tr>\n",
       "    <tr>\n",
       "      <th>74805</th>\n",
       "      <td>82797</td>\n",
       "      <td>0.000692</td>\n",
       "    </tr>\n",
       "  </tbody>\n",
       "</table>\n",
       "<p>74806 rows × 2 columns</p>\n",
       "</div>"
      ],
      "text/plain": [
       "       session_id    target\n",
       "0               1  0.005070\n",
       "1               2  0.000000\n",
       "2               3  0.000146\n",
       "3               4  0.003233\n",
       "4               5  0.002998\n",
       "...           ...       ...\n",
       "74801       82792  0.022158\n",
       "74802       82794  0.000408\n",
       "74803       82795  0.010993\n",
       "74804       82796  0.009996\n",
       "74805       82797  0.000692\n",
       "\n",
       "[74806 rows x 2 columns]"
      ]
     },
     "execution_count": 144,
     "metadata": {},
     "output_type": "execute_result"
    }
   ],
   "source": [
    "sample"
   ]
  },
  {
   "cell_type": "code",
   "execution_count": null,
   "metadata": {},
   "outputs": [],
   "source": []
  }
 ],
 "metadata": {
  "kernelspec": {
   "display_name": "Python 3",
   "language": "python",
   "name": "python3"
  },
  "language_info": {
   "codemirror_mode": {
    "name": "ipython",
    "version": 3
   },
   "file_extension": ".py",
   "mimetype": "text/x-python",
   "name": "python",
   "nbconvert_exporter": "python",
   "pygments_lexer": "ipython3",
   "version": "3.7.4"
  }
 },
 "nbformat": 4,
 "nbformat_minor": 2
}
