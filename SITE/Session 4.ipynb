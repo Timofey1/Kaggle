{
 "cells": [
  {
   "cell_type": "markdown",
   "metadata": {},
   "source": [
    "# Сессия 4 "
   ]
  },
  {
   "cell_type": "markdown",
   "metadata": {},
   "source": [
    "импорты для подготовки "
   ]
  },
  {
   "cell_type": "code",
   "execution_count": 1,
   "metadata": {},
   "outputs": [],
   "source": [
    "import pandas as pd\n",
    "import pickle as pkl\n",
    "from sklearn.ensemble import RandomForestClassifier"
   ]
  },
  {
   "cell_type": "code",
   "execution_count": 7,
   "metadata": {},
   "outputs": [],
   "source": [
    "train = pd.read_csv(\"train.csv\", index_col=0)\n",
    "test =  pd.read_csv(\"test.csv\", index_col=0)\n",
    "test_ses = pd.read_csv(\"КЗ Юниоры/Сессия1/test_ses.csv\")\n"
   ]
  },
  {
   "cell_type": "markdown",
   "metadata": {},
   "source": [
    "Создание файла как пример использования в будущей программе"
   ]
  },
  {
   "cell_type": "code",
   "execution_count": 12,
   "metadata": {},
   "outputs": [],
   "source": [
    "example = test_ses.iloc[:1000]"
   ]
  },
  {
   "cell_type": "code",
   "execution_count": 13,
   "metadata": {},
   "outputs": [],
   "source": [
    "example.to_csv(\"example.csv\")"
   ]
  },
  {
   "cell_type": "code",
   "execution_count": 5,
   "metadata": {},
   "outputs": [],
   "source": [
    "X = train.drop([\"session_id\", \"target\"], axis=1)\n",
    "y = train.target"
   ]
  },
  {
   "cell_type": "code",
   "execution_count": 6,
   "metadata": {},
   "outputs": [],
   "source": [
    "RFC = RandomForestClassifier(random_state=42,n_estimators=500, max_features=\"auto\", max_depth=15, criterion=\"gini\", bootstrap=False)"
   ]
  },
  {
   "cell_type": "markdown",
   "metadata": {},
   "source": [
    "Обучение модели и сохранение ее как файл pkl"
   ]
  },
  {
   "cell_type": "code",
   "execution_count": 8,
   "metadata": {},
   "outputs": [
    {
     "data": {
      "text/plain": [
       "RandomForestClassifier(bootstrap=False, max_depth=15, n_estimators=500,\n",
       "                       random_state=42)"
      ]
     },
     "execution_count": 8,
     "metadata": {},
     "output_type": "execute_result"
    }
   ],
   "source": [
    "RFC.fit(X, y)"
   ]
  },
  {
   "cell_type": "code",
   "execution_count": null,
   "metadata": {},
   "outputs": [],
   "source": [
    "pkl_filename = \"RFC.pkl\"\n",
    "with open(pkl_filename, 'wb') as file:\n",
    "    pickle.dump(RFC, file)"
   ]
  },
  {
   "cell_type": "markdown",
   "metadata": {},
   "source": [
    "Подготовка Функций к созданию программы\n",
    "1. load_model(filename) - загрузка модели\n",
    "2. new_features(df) - добавления новых признаков\n",
    "3. preproc(df) - предобработка файла с данными\n",
    "4. make_pred(model, df) - функция предикта таргетов \n",
    "5. helpp() - функция вызова справки"
   ]
  },
  {
   "cell_type": "code",
   "execution_count": 36,
   "metadata": {},
   "outputs": [],
   "source": [
    "def load_model(filename):\n",
    "    print(\">>> Загрузка модели\")\n",
    "    with open(filename, 'rb') as file:\n",
    "            model = pickle.load(file)\n",
    "    print(\">>> Готово\")\n",
    "    return model\n",
    "\n",
    "def new_features(df):\n",
    "    df[\"ym\"] = df.apply(lambda x: \"\".join(x[\"time1\"][:x[\"time1\"].rfind(\"-\")].split(\"-\")), axis=1)\n",
    "    \n",
    "    df[\"time_diff\"] = df.apply(lambda x: (datetime.datetime.strptime(x[\"time10\"], '%Y-%m-%d %H:%M:%S') -\n",
    " datetime.datetime.strptime(x[\"time1\"], '%Y-%m-%d %H:%M:%S')).total_seconds(), axis=1)\n",
    "    \n",
    "    df[\"max_repeat\"] = df[[\"site1\",\"site2\",\"site3\",\"site4\",\"site5\",\"site6\",\"site7\",\"site8\",\"site9\",\"site10\"]].apply(lambda x: x.value_counts().max(), axis=1)\n",
    "    \n",
    "    df = df.astype({\"ym\":\"int64\"})\n",
    "    return df \n",
    "\n",
    "def preproc(df):\n",
    "    df = df[df['site10'].notna()]\n",
    "    df = df.reset_index(drop=True)\n",
    "    df = new_features(df)\n",
    "    df.drop([\"time1\",\"time2\",\"time3\",\"time4\",\"time5\",\"time6\",\"time7\",\"time8\",\"time9\",\"time10\"], axis=1, inplace=True)\n",
    "    return df\n",
    "\n",
    "def make_pred(model, df):\n",
    "    pred = model.predict_proba(df.drop([\"session_id\"], axis=1))\n",
    "    tar = []\n",
    "    for i in pred:\n",
    "        tar.append(i[1])\n",
    "\n",
    "    Id = df.session_id\n",
    "\n",
    "    sample = pd.DataFrame({\"session_id\":Id, \"probability\":tar, \"target\":[int(round(i)) for i in tar]})\n",
    "    return sample\n",
    "\n",
    "def helpp():\n",
    "    print(\"\"\"Несколько правил для успешной работы программы: \\n \n",
    "            1. Файл с вашими данными сессии должен находиться в той же папке что и программа \n",
    "            2. Все файлы которые вы указываете необходимо указывать вместе с раширением \n",
    "            3. Вы можете набрать exit для выхода из программы \n",
    "            4. Вместе с программой идет файл RFC.pkl - это уже обученая модель, если вы хотите заменить на другую просто замените ее в папке \n",
    "            5. Так же есть файл example.csv с примером данных\"\"\")"
   ]
  },
  {
   "cell_type": "markdown",
   "metadata": {},
   "source": [
    "Для запуска программы вы можете запустить ее из ячейки ниже, либо открыть командную строку, перейти в нужную директорию(cd), и вызвать программу командой `python programm.py`"
   ]
  },
  {
   "cell_type": "code",
   "execution_count": 37,
   "metadata": {},
   "outputs": [
    {
     "name": "stdout",
     "output_type": "stream",
     "text": [
      "Loading modules...\n",
      "Done\n",
      "\n",
      "Добро пожаловать в приложение. Для правильной работы следуйте указаниям. Введите help для получения справки.\n",
      ">>> Введите название вашего файла(с расширением): help\n",
      "Несколько правил для успешной работы программы: \n",
      " \n",
      "            1. Файл с вашими данными сессии должен находиться в той же папке что и программа \n",
      "            2. Все файлы которые вы указываете необходимо указывать вместе с раширением \n",
      "            3. Вы можете набрать exit для выхода из программы \n",
      "            4. Вместе с программой идет файл RFC.pkl - это уже обученая модель, если вы хотите заменить на другую просто замените ее в папке \n",
      "            5. Так же есть файл example.csv с примером данных\n",
      ">>> Введите название вашего файла(с расширением): example.csv\n",
      ">>> Ваш файл  example.csv ?(y/n)\n",
      "y\n",
      ">>> Обработка данных\n",
      ">>> Загрузка модели\n",
      ">>> Готово\n",
      "<========RESULT========>\n",
      "   session_id  probability  target\n",
      "0           1     0.030722       0\n",
      "1           2     0.000000       0\n",
      "2           3     0.000636       0\n",
      "3           4     0.006073       0\n",
      "4           5     0.002122       0\n",
      "5 out of 905\n",
      "<========RESULT========>\n",
      ">>> Хотите сохранить все в файл?(y/n): y\n",
      ">>> Введите имя csv файла c расширением: result.csv\n",
      ">>> Готово\n"
     ]
    }
   ],
   "source": [
    "print(\"Loading modules...\")\n",
    "import warnings\n",
    "warnings.filterwarnings(\"ignore\")\n",
    "from sklearn.ensemble import RandomForestClassifier\n",
    "import pickle\n",
    "import time\n",
    "import numpy as np\n",
    "import datetime\n",
    "from goto import with_goto\n",
    "\n",
    "print(\"Done\")\n",
    "print()\n",
    "\n",
    "@with_goto\n",
    "def main():\n",
    "    while True:\n",
    "        print(\"Добро пожаловать в приложение. Для правильной работы следуйте указаниям. Введите help для получения справки.\")\n",
    "        label .restart\n",
    "        a = input(\">>> Введите название вашего файла(с расширением): \")\n",
    "        if a == \"help\":\n",
    "            helpp()\n",
    "            goto .restart\n",
    "        elif a == \"exit\":\n",
    "            break\n",
    "        elif \"csv\" in a:\n",
    "            print(\">>> Ваш файл \",a,\"?(y/n)\")\n",
    "            b=input()\n",
    "            if b == \"help\":\n",
    "                helpp()\n",
    "                goto .restart\n",
    "            elif b == \"exit\":\n",
    "                break\n",
    "            elif b == \"y\":\n",
    "                try:\n",
    "                    df = pd.read_csv(a, index_col=0)\n",
    "                except e:\n",
    "                    print(\"что то не так, проверьте имя файла еще раз\")\n",
    "                    goto .restart\n",
    "            else: \n",
    "                goto .restart\n",
    "        else:\n",
    "            print(\">>> error0\")\n",
    "            goto .restart\n",
    "        \n",
    "        print(\">>> Обработка данных\")\n",
    "        df = preproc(df)\n",
    "        label .loadmodel\n",
    "        model = load_model(\"RFC.pkl\")\n",
    "        R = make_pred(model, df)\n",
    "        print(\"<========RESULT========>\")\n",
    "        \n",
    "        print(R.head())\n",
    "        print(\"5 out of\", R.shape[0])\n",
    "        print(\"<========RESULT========>\")\n",
    "        \n",
    "        label .save\n",
    "        a = input(\">>> Хотите сохранить все в файл?(y/n): \")\n",
    "        if a == \"help\":\n",
    "            helpp()\n",
    "            goto .save\n",
    "        elif a == \"exit\":\n",
    "            break\n",
    "        elif a==\"n\":\n",
    "            break\n",
    "        elif a==\"y\":\n",
    "            fn = input(\">>> Введите имя csv файла c расширением: \")\n",
    "            if fn == \"help\":\n",
    "                helpp()\n",
    "                goto .save\n",
    "            elif fn == \"exit\":\n",
    "                break\n",
    "            elif \"csv\" in fn:\n",
    "                R.to_csv(fn)\n",
    "            else: \n",
    "                print(\">>> что то не так\")\n",
    "                goto .save\n",
    "            print(\">>> Готово\")\n",
    "        break\n",
    "main()"
   ]
  },
  {
   "cell_type": "code",
   "execution_count": null,
   "metadata": {},
   "outputs": [],
   "source": []
  }
 ],
 "metadata": {
  "kernelspec": {
   "display_name": "Python 3",
   "language": "python",
   "name": "python3"
  },
  "language_info": {
   "codemirror_mode": {
    "name": "ipython",
    "version": 3
   },
   "file_extension": ".py",
   "mimetype": "text/x-python",
   "name": "python",
   "nbconvert_exporter": "python",
   "pygments_lexer": "ipython3",
   "version": "3.7.4"
  }
 },
 "nbformat": 4,
 "nbformat_minor": 2
}
