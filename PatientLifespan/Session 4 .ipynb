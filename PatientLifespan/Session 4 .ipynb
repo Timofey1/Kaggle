{
 "cells": [
  {
   "cell_type": "markdown",
   "metadata": {},
   "source": [
    "# Сессия 4 "
   ]
  },
  {
   "cell_type": "code",
   "execution_count": 29,
   "metadata": {},
   "outputs": [],
   "source": [
    "import pandas as pd \n",
    "import matplotlib.pyplot as plt\n",
    "%matplotlib inline \n",
    "import seaborn as sns\n",
    "import numpy as np\n",
    "import warnings\n",
    "warnings.filterwarnings(\"ignore\")\n",
    "\n",
    "from sklearn.linear_model import LogisticRegression\n",
    "from sklearn.neighbors import KNeighborsClassifier\n",
    "from sklearn.ensemble import RandomForestClassifier\n",
    "\n",
    "from sklearn.model_selection import train_test_split\n",
    "from sklearn.metrics import accuracy_score\n",
    "from sklearn.metrics import f1_score\n",
    "\n",
    "from sklearn.model_selection import RandomizedSearchCV"
   ]
  },
  {
   "cell_type": "markdown",
   "metadata": {},
   "source": [
    "Чтение csv файла с данными "
   ]
  },
  {
   "cell_type": "code",
   "execution_count": 30,
   "metadata": {},
   "outputs": [],
   "source": [
    "df_nan_m = pd.read_csv(\"clear_data_median_fill.csv\", index_col=0)"
   ]
  },
  {
   "cell_type": "markdown",
   "metadata": {},
   "source": [
    "Чтение файла с таргетами"
   ]
  },
  {
   "cell_type": "code",
   "execution_count": 31,
   "metadata": {},
   "outputs": [],
   "source": [
    "tars = pd.read_csv(\"Outcomes.txt\", sep=\",\")"
   ]
  },
  {
   "cell_type": "code",
   "execution_count": 32,
   "metadata": {},
   "outputs": [],
   "source": [
    "tars.columns = ['ID', 'SAPS-I', 'SOFA', 'Length_of_stay', 'Survival',\n",
    "       'In-hospital_death']"
   ]
  },
  {
   "cell_type": "markdown",
   "metadata": {},
   "source": [
    "Объединение двух файлов по ID"
   ]
  },
  {
   "cell_type": "code",
   "execution_count": 33,
   "metadata": {},
   "outputs": [],
   "source": [
    "df_nan_m = pd.merge(df_nan_m,tars,on=\"ID\")"
   ]
  },
  {
   "cell_type": "markdown",
   "metadata": {},
   "source": [
    "ID можно убрать тк это никак не влияет на состояние пациента"
   ]
  },
  {
   "cell_type": "code",
   "execution_count": 34,
   "metadata": {},
   "outputs": [],
   "source": [
    "df = df_nan_m.drop(['ID'], axis=1)"
   ]
  },
  {
   "cell_type": "markdown",
   "metadata": {},
   "source": [
    "Заменим все значения -1(`NaN`) на среднее значение по столбцу"
   ]
  },
  {
   "cell_type": "code",
   "execution_count": 35,
   "metadata": {},
   "outputs": [],
   "source": [
    "for i in df.columns:\n",
    "    df[i] = df[i].replace(-1, df[i].median())"
   ]
  },
  {
   "cell_type": "code",
   "execution_count": 36,
   "metadata": {},
   "outputs": [
    {
     "data": {
      "text/html": [
       "<div>\n",
       "<style scoped>\n",
       "    .dataframe tbody tr th:only-of-type {\n",
       "        vertical-align: middle;\n",
       "    }\n",
       "\n",
       "    .dataframe tbody tr th {\n",
       "        vertical-align: top;\n",
       "    }\n",
       "\n",
       "    .dataframe thead th {\n",
       "        text-align: right;\n",
       "    }\n",
       "</style>\n",
       "<table border=\"1\" class=\"dataframe\">\n",
       "  <thead>\n",
       "    <tr style=\"text-align: right;\">\n",
       "      <th></th>\n",
       "      <th>Temp_first_val</th>\n",
       "      <th>Temp_last_val</th>\n",
       "      <th>Temp_min</th>\n",
       "      <th>Temp_max</th>\n",
       "      <th>Temp_mean</th>\n",
       "      <th>FiO2_mean</th>\n",
       "      <th>Urine_first_val</th>\n",
       "      <th>Urine_last_val</th>\n",
       "      <th>Urine_min</th>\n",
       "      <th>Urine_max</th>\n",
       "      <th>...</th>\n",
       "      <th>Gender</th>\n",
       "      <th>Height</th>\n",
       "      <th>Age</th>\n",
       "      <th>Weight</th>\n",
       "      <th>ICUType</th>\n",
       "      <th>SAPS-I</th>\n",
       "      <th>SOFA</th>\n",
       "      <th>Length_of_stay</th>\n",
       "      <th>Survival</th>\n",
       "      <th>In-hospital_death</th>\n",
       "    </tr>\n",
       "  </thead>\n",
       "  <tbody>\n",
       "    <tr>\n",
       "      <th>0</th>\n",
       "      <td>35.1</td>\n",
       "      <td>37.8</td>\n",
       "      <td>35.1</td>\n",
       "      <td>38.2</td>\n",
       "      <td>37.357143</td>\n",
       "      <td>0.526667</td>\n",
       "      <td>900.0</td>\n",
       "      <td>280.0</td>\n",
       "      <td>0.0</td>\n",
       "      <td>900.0</td>\n",
       "      <td>...</td>\n",
       "      <td>0.0</td>\n",
       "      <td>152.4</td>\n",
       "      <td>54.0</td>\n",
       "      <td>76.50</td>\n",
       "      <td>4.0</td>\n",
       "      <td>6</td>\n",
       "      <td>1</td>\n",
       "      <td>5</td>\n",
       "      <td>-1</td>\n",
       "      <td>0</td>\n",
       "    </tr>\n",
       "    <tr>\n",
       "      <th>1</th>\n",
       "      <td>35.2</td>\n",
       "      <td>37.1</td>\n",
       "      <td>34.5</td>\n",
       "      <td>37.9</td>\n",
       "      <td>36.939130</td>\n",
       "      <td>0.560000</td>\n",
       "      <td>770.0</td>\n",
       "      <td>220.0</td>\n",
       "      <td>0.0</td>\n",
       "      <td>770.0</td>\n",
       "      <td>...</td>\n",
       "      <td>1.0</td>\n",
       "      <td>175.3</td>\n",
       "      <td>76.0</td>\n",
       "      <td>76.00</td>\n",
       "      <td>2.0</td>\n",
       "      <td>16</td>\n",
       "      <td>8</td>\n",
       "      <td>8</td>\n",
       "      <td>-1</td>\n",
       "      <td>0</td>\n",
       "    </tr>\n",
       "    <tr>\n",
       "      <th>2</th>\n",
       "      <td>37.8</td>\n",
       "      <td>37.2</td>\n",
       "      <td>36.7</td>\n",
       "      <td>39.0</td>\n",
       "      <td>37.800000</td>\n",
       "      <td>0.500000</td>\n",
       "      <td>100.0</td>\n",
       "      <td>35.0</td>\n",
       "      <td>18.0</td>\n",
       "      <td>425.0</td>\n",
       "      <td>...</td>\n",
       "      <td>0.0</td>\n",
       "      <td>152.4</td>\n",
       "      <td>44.0</td>\n",
       "      <td>56.70</td>\n",
       "      <td>3.0</td>\n",
       "      <td>21</td>\n",
       "      <td>11</td>\n",
       "      <td>19</td>\n",
       "      <td>-1</td>\n",
       "      <td>0</td>\n",
       "    </tr>\n",
       "    <tr>\n",
       "      <th>3</th>\n",
       "      <td>36.3</td>\n",
       "      <td>37.0</td>\n",
       "      <td>35.1</td>\n",
       "      <td>37.0</td>\n",
       "      <td>36.223077</td>\n",
       "      <td>0.526667</td>\n",
       "      <td>600.0</td>\n",
       "      <td>550.0</td>\n",
       "      <td>100.0</td>\n",
       "      <td>700.0</td>\n",
       "      <td>...</td>\n",
       "      <td>1.0</td>\n",
       "      <td>180.3</td>\n",
       "      <td>68.0</td>\n",
       "      <td>84.60</td>\n",
       "      <td>3.0</td>\n",
       "      <td>7</td>\n",
       "      <td>1</td>\n",
       "      <td>9</td>\n",
       "      <td>575</td>\n",
       "      <td>0</td>\n",
       "    </tr>\n",
       "    <tr>\n",
       "      <th>4</th>\n",
       "      <td>37.8</td>\n",
       "      <td>36.7</td>\n",
       "      <td>35.8</td>\n",
       "      <td>37.8</td>\n",
       "      <td>36.880000</td>\n",
       "      <td>0.526667</td>\n",
       "      <td>140.0</td>\n",
       "      <td>80.0</td>\n",
       "      <td>16.0</td>\n",
       "      <td>220.0</td>\n",
       "      <td>...</td>\n",
       "      <td>0.0</td>\n",
       "      <td>152.4</td>\n",
       "      <td>88.0</td>\n",
       "      <td>76.50</td>\n",
       "      <td>3.0</td>\n",
       "      <td>17</td>\n",
       "      <td>2</td>\n",
       "      <td>4</td>\n",
       "      <td>918</td>\n",
       "      <td>0</td>\n",
       "    </tr>\n",
       "    <tr>\n",
       "      <th>...</th>\n",
       "      <td>...</td>\n",
       "      <td>...</td>\n",
       "      <td>...</td>\n",
       "      <td>...</td>\n",
       "      <td>...</td>\n",
       "      <td>...</td>\n",
       "      <td>...</td>\n",
       "      <td>...</td>\n",
       "      <td>...</td>\n",
       "      <td>...</td>\n",
       "      <td>...</td>\n",
       "      <td>...</td>\n",
       "      <td>...</td>\n",
       "      <td>...</td>\n",
       "      <td>...</td>\n",
       "      <td>...</td>\n",
       "      <td>...</td>\n",
       "      <td>...</td>\n",
       "      <td>...</td>\n",
       "      <td>...</td>\n",
       "      <td>...</td>\n",
       "    </tr>\n",
       "    <tr>\n",
       "      <th>7598</th>\n",
       "      <td>36.8</td>\n",
       "      <td>36.3</td>\n",
       "      <td>36.1</td>\n",
       "      <td>37.4</td>\n",
       "      <td>36.854348</td>\n",
       "      <td>0.686364</td>\n",
       "      <td>120.0</td>\n",
       "      <td>80.0</td>\n",
       "      <td>0.0</td>\n",
       "      <td>800.0</td>\n",
       "      <td>...</td>\n",
       "      <td>1.0</td>\n",
       "      <td>180.3</td>\n",
       "      <td>78.0</td>\n",
       "      <td>83.18</td>\n",
       "      <td>2.0</td>\n",
       "      <td>21</td>\n",
       "      <td>13</td>\n",
       "      <td>6</td>\n",
       "      <td>752</td>\n",
       "      <td>0</td>\n",
       "    </tr>\n",
       "    <tr>\n",
       "      <th>7599</th>\n",
       "      <td>37.2</td>\n",
       "      <td>36.6</td>\n",
       "      <td>36.3</td>\n",
       "      <td>37.7</td>\n",
       "      <td>37.092857</td>\n",
       "      <td>0.526667</td>\n",
       "      <td>0.0</td>\n",
       "      <td>35.0</td>\n",
       "      <td>0.0</td>\n",
       "      <td>70.0</td>\n",
       "      <td>...</td>\n",
       "      <td>1.0</td>\n",
       "      <td>177.8</td>\n",
       "      <td>90.0</td>\n",
       "      <td>87.00</td>\n",
       "      <td>3.0</td>\n",
       "      <td>28</td>\n",
       "      <td>14</td>\n",
       "      <td>10</td>\n",
       "      <td>39</td>\n",
       "      <td>0</td>\n",
       "    </tr>\n",
       "    <tr>\n",
       "      <th>7600</th>\n",
       "      <td>37.3</td>\n",
       "      <td>36.2</td>\n",
       "      <td>36.0</td>\n",
       "      <td>37.3</td>\n",
       "      <td>36.600000</td>\n",
       "      <td>0.526667</td>\n",
       "      <td>8.0</td>\n",
       "      <td>565.0</td>\n",
       "      <td>4.0</td>\n",
       "      <td>565.0</td>\n",
       "      <td>...</td>\n",
       "      <td>0.0</td>\n",
       "      <td>152.4</td>\n",
       "      <td>70.0</td>\n",
       "      <td>74.00</td>\n",
       "      <td>2.0</td>\n",
       "      <td>12</td>\n",
       "      <td>4</td>\n",
       "      <td>19</td>\n",
       "      <td>334</td>\n",
       "      <td>0</td>\n",
       "    </tr>\n",
       "    <tr>\n",
       "      <th>7601</th>\n",
       "      <td>36.1</td>\n",
       "      <td>36.1</td>\n",
       "      <td>36.1</td>\n",
       "      <td>37.1</td>\n",
       "      <td>36.409091</td>\n",
       "      <td>0.526667</td>\n",
       "      <td>400.0</td>\n",
       "      <td>65.0</td>\n",
       "      <td>65.0</td>\n",
       "      <td>600.0</td>\n",
       "      <td>...</td>\n",
       "      <td>0.0</td>\n",
       "      <td>152.4</td>\n",
       "      <td>49.0</td>\n",
       "      <td>57.00</td>\n",
       "      <td>3.0</td>\n",
       "      <td>5</td>\n",
       "      <td>0</td>\n",
       "      <td>12</td>\n",
       "      <td>-1</td>\n",
       "      <td>0</td>\n",
       "    </tr>\n",
       "    <tr>\n",
       "      <th>7602</th>\n",
       "      <td>37.6</td>\n",
       "      <td>36.2</td>\n",
       "      <td>35.6</td>\n",
       "      <td>37.7</td>\n",
       "      <td>36.927273</td>\n",
       "      <td>0.541667</td>\n",
       "      <td>80.0</td>\n",
       "      <td>25.0</td>\n",
       "      <td>5.0</td>\n",
       "      <td>1515.0</td>\n",
       "      <td>...</td>\n",
       "      <td>0.0</td>\n",
       "      <td>152.4</td>\n",
       "      <td>82.0</td>\n",
       "      <td>76.50</td>\n",
       "      <td>2.0</td>\n",
       "      <td>18</td>\n",
       "      <td>8</td>\n",
       "      <td>14</td>\n",
       "      <td>88</td>\n",
       "      <td>0</td>\n",
       "    </tr>\n",
       "  </tbody>\n",
       "</table>\n",
       "<p>7603 rows × 110 columns</p>\n",
       "</div>"
      ],
      "text/plain": [
       "      Temp_first_val  Temp_last_val  Temp_min  Temp_max  Temp_mean  FiO2_mean  \\\n",
       "0               35.1           37.8      35.1      38.2  37.357143   0.526667   \n",
       "1               35.2           37.1      34.5      37.9  36.939130   0.560000   \n",
       "2               37.8           37.2      36.7      39.0  37.800000   0.500000   \n",
       "3               36.3           37.0      35.1      37.0  36.223077   0.526667   \n",
       "4               37.8           36.7      35.8      37.8  36.880000   0.526667   \n",
       "...              ...            ...       ...       ...        ...        ...   \n",
       "7598            36.8           36.3      36.1      37.4  36.854348   0.686364   \n",
       "7599            37.2           36.6      36.3      37.7  37.092857   0.526667   \n",
       "7600            37.3           36.2      36.0      37.3  36.600000   0.526667   \n",
       "7601            36.1           36.1      36.1      37.1  36.409091   0.526667   \n",
       "7602            37.6           36.2      35.6      37.7  36.927273   0.541667   \n",
       "\n",
       "      Urine_first_val  Urine_last_val  Urine_min  Urine_max  ...  Gender  \\\n",
       "0               900.0           280.0        0.0      900.0  ...     0.0   \n",
       "1               770.0           220.0        0.0      770.0  ...     1.0   \n",
       "2               100.0            35.0       18.0      425.0  ...     0.0   \n",
       "3               600.0           550.0      100.0      700.0  ...     1.0   \n",
       "4               140.0            80.0       16.0      220.0  ...     0.0   \n",
       "...               ...             ...        ...        ...  ...     ...   \n",
       "7598            120.0            80.0        0.0      800.0  ...     1.0   \n",
       "7599              0.0            35.0        0.0       70.0  ...     1.0   \n",
       "7600              8.0           565.0        4.0      565.0  ...     0.0   \n",
       "7601            400.0            65.0       65.0      600.0  ...     0.0   \n",
       "7602             80.0            25.0        5.0     1515.0  ...     0.0   \n",
       "\n",
       "      Height   Age  Weight  ICUType  SAPS-I  SOFA  Length_of_stay  Survival  \\\n",
       "0      152.4  54.0   76.50      4.0       6     1               5        -1   \n",
       "1      175.3  76.0   76.00      2.0      16     8               8        -1   \n",
       "2      152.4  44.0   56.70      3.0      21    11              19        -1   \n",
       "3      180.3  68.0   84.60      3.0       7     1               9       575   \n",
       "4      152.4  88.0   76.50      3.0      17     2               4       918   \n",
       "...      ...   ...     ...      ...     ...   ...             ...       ...   \n",
       "7598   180.3  78.0   83.18      2.0      21    13               6       752   \n",
       "7599   177.8  90.0   87.00      3.0      28    14              10        39   \n",
       "7600   152.4  70.0   74.00      2.0      12     4              19       334   \n",
       "7601   152.4  49.0   57.00      3.0       5     0              12        -1   \n",
       "7602   152.4  82.0   76.50      2.0      18     8              14        88   \n",
       "\n",
       "      In-hospital_death  \n",
       "0                     0  \n",
       "1                     0  \n",
       "2                     0  \n",
       "3                     0  \n",
       "4                     0  \n",
       "...                 ...  \n",
       "7598                  0  \n",
       "7599                  0  \n",
       "7600                  0  \n",
       "7601                  0  \n",
       "7602                  0  \n",
       "\n",
       "[7603 rows x 110 columns]"
      ]
     },
     "execution_count": 36,
     "metadata": {},
     "output_type": "execute_result"
    }
   ],
   "source": [
    "df"
   ]
  },
  {
   "cell_type": "markdown",
   "metadata": {},
   "source": [
    "Разделим на признаки и целевую"
   ]
  },
  {
   "cell_type": "code",
   "execution_count": 37,
   "metadata": {},
   "outputs": [],
   "source": [
    "X = df.drop([\"In-hospital_death\"], axis=1)\n",
    "y = df[\"In-hospital_death\"]"
   ]
  },
  {
   "cell_type": "markdown",
   "metadata": {},
   "source": [
    "#### Feature_importance\n",
    "Отбор важных признаков "
   ]
  },
  {
   "cell_type": "code",
   "execution_count": 41,
   "metadata": {},
   "outputs": [
    {
     "name": "stdout",
     "output_type": "stream",
     "text": [
      "Index(['Temp_first_val', 'Temp_last_val', 'Temp_min', 'Temp_max', 'Temp_mean',\n",
      "       'FiO2_mean', 'Urine_last_val', 'Urine_max', 'Urine_mean',\n",
      "       'Urine_median', 'NIDiasABP_last_val', 'WBC_last_val', 'WBC_min',\n",
      "       'WBC_max', 'WBC_mean', 'HCO3_last_val', 'HCO3_min', 'HCO3_mean',\n",
      "       'SysABP_mean', 'Glucose_last_val', 'Glucose_median',\n",
      "       'NISysABP_last_val', 'NISysABP_max', 'NISysABP_mean', 'Creatinine_mean',\n",
      "       'GCS_last_val', 'GCS_max', 'GCS_mean', 'PaO2_mean', 'pH_mean',\n",
      "       'PaCO2_mean', 'Na_last_val', 'Na_mean', 'NIMAP_last_val',\n",
      "       'HR_first_val', 'HR_last_val', 'HR_min', 'HR_max', 'HR_mean',\n",
      "       'HR_median', 'BUN_first_val', 'BUN_last_val', 'BUN_min', 'BUN_max',\n",
      "       'BUN_mean', 'Platelets_first_val', 'Platelets_min', 'Platelets_mean',\n",
      "       'Age', 'Weight', 'SAPS-I', 'SOFA', 'Length_of_stay', 'Survival'],\n",
      "      dtype='object')\n"
     ]
    }
   ],
   "source": [
    "clf = RandomForestClassifier(random_state = 42)\n",
    "clf.fit(X, y)\n",
    "importances = clf.feature_importances_\n",
    "important_names = X.columns[importances > np.median(importances)]\n",
    "print(important_names)"
   ]
  },
  {
   "cell_type": "code",
   "execution_count": 42,
   "metadata": {},
   "outputs": [],
   "source": [
    "X = X[important_names]"
   ]
  },
  {
   "cell_type": "markdown",
   "metadata": {},
   "source": [
    "Разделение на `train, test, valid`. Тренировочная выборка будет самой большой: 60%, валидационная и тестовая будут одинаковыми по 20%"
   ]
  },
  {
   "cell_type": "code",
   "execution_count": 44,
   "metadata": {},
   "outputs": [],
   "source": [
    "X_train, X_test, y_train, y_test= train_test_split(X, y, test_size=0.2, random_state=42)\n",
    "\n",
    "X_train, X_val, y_train, y_val = train_test_split(X_train, y_train, test_size=0.25, random_state=42) # 0.25 x 0.8 = 0.2"
   ]
  },
  {
   "cell_type": "markdown",
   "metadata": {},
   "source": [
    "Создание трех моделей классификации: логистическа регрессия, классификатор методом ближайших соседей, и случайный лес"
   ]
  },
  {
   "cell_type": "code",
   "execution_count": 39,
   "metadata": {},
   "outputs": [],
   "source": [
    "models = [LogisticRegression(),\n",
    "          KNeighborsClassifier(n_neighbors=5), \n",
    "          RandomForestClassifier(random_state=42), \n",
    "          ]"
   ]
  },
  {
   "cell_type": "code",
   "execution_count": 45,
   "metadata": {},
   "outputs": [
    {
     "name": "stdout",
     "output_type": "stream",
     "text": [
      "LogisticRegression()\n",
      "accuracy_score 0.8856015779092702\n",
      "KNeighborsClassifier()\n",
      "accuracy_score 0.8632478632478633\n",
      "RandomForestClassifier(random_state=42)\n",
      "accuracy_score 0.9585798816568047\n"
     ]
    },
    {
     "data": {
      "image/png": "[encoded data removed]",
      "text/plain": [
       "<Figure size 720x288 with 1 Axes>"
      ]
     },
     "metadata": {
      "needs_background": "light"
     },
     "output_type": "display_data"
    }
   ],
   "source": [
    "TestModels = pd.DataFrame()\n",
    "temp = {}\n",
    "for model in models:\n",
    "    m = str(model)\n",
    "    print(m)\n",
    "    temp['Model'] = m[:m.index('(')]\n",
    "    \n",
    "    clf = model\n",
    "    clf.fit(X_train, y_train)\n",
    "    \n",
    "    pred = clf.predict(X_val)\n",
    "    \n",
    "    temp['accuracy_score'] = accuracy_score(pred, y_val)\n",
    "    print('accuracy_score', accuracy_score(pred, y_val))\n",
    "    TestModels = TestModels.append([temp])\n",
    "TestModels.set_index('Model', inplace=True)\n",
    "\n",
    "fig, axes = plt.subplots(ncols=1, figsize=(10, 4))\n",
    "TestModels.accuracy_score.plot(ax=axes, kind='bar', title='score')\n",
    "plt.show()"
   ]
  },
  {
   "cell_type": "markdown",
   "metadata": {},
   "source": [
    "Лучше всего себя показал: `RandomForestClassifier`"
   ]
  },
  {
   "cell_type": "markdown",
   "metadata": {},
   "source": [
    "Оценим точность на тестовых данных методом `f1_score`"
   ]
  },
  {
   "cell_type": "code",
   "execution_count": 47,
   "metadata": {},
   "outputs": [
    {
     "name": "stdout",
     "output_type": "stream",
     "text": [
      "0.887218045112782\n"
     ]
    }
   ],
   "source": [
    "print(f1_score(models[2].predict(X_test), y_test))"
   ]
  },
  {
   "cell_type": "markdown",
   "metadata": {},
   "source": [
    "И далее произведем подбор гиперпараметров для случайного леса"
   ]
  },
  {
   "cell_type": "code",
   "execution_count": 49,
   "metadata": {},
   "outputs": [],
   "source": [
    "n_estimators = [int(x) for x in np.linspace(start = 100, stop = 1000, num = 10)]\n",
    "max_features = ['log2', 'sqrt']\n",
    "max_depth = [int(x) for x in np.linspace(start = 1, stop = 15, num = 15)]\n",
    "min_samples_split = [int(x) for x in np.linspace(start = 2, stop = 50, num = 10)]\n",
    "min_samples_leaf = [int(x) for x in np.linspace(start = 2, stop = 50, num = 10)]\n",
    "bootstrap = [True, False]\n",
    "param_dist = {'n_estimators': n_estimators,\n",
    "               'max_features': max_features,\n",
    "               'max_depth': max_depth,\n",
    "               'min_samples_split': min_samples_split,\n",
    "               'min_samples_leaf': min_samples_leaf,\n",
    "               'bootstrap': bootstrap}"
   ]
  },
  {
   "cell_type": "code",
   "execution_count": 50,
   "metadata": {},
   "outputs": [],
   "source": [
    "rfc = RandomForestClassifier(random_state=42)\n",
    "rs = RandomizedSearchCV(rfc, \n",
    "                        param_dist, \n",
    "                        cv = 3, \n",
    "                        verbose = 1, \n",
    "                        n_jobs=-1, \n",
    "                        random_state=42)"
   ]
  },
  {
   "cell_type": "markdown",
   "metadata": {},
   "source": [
    "#### Лучшие параметры для модели получились <br>\n",
    "`{'n_estimators': 500,\n",
    " 'min_samples_split': 44,\n",
    " 'min_samples_leaf': 12,\n",
    " 'max_features': 'sqrt',\n",
    " 'max_depth': 6,\n",
    " 'bootstrap': True}`"
   ]
  },
  {
   "cell_type": "code",
   "execution_count": 51,
   "metadata": {},
   "outputs": [
    {
     "name": "stdout",
     "output_type": "stream",
     "text": [
      "Fitting 3 folds for each of 10 candidates, totalling 30 fits\n"
     ]
    },
    {
     "name": "stderr",
     "output_type": "stream",
     "text": [
      "[Parallel(n_jobs=-1)]: Using backend LokyBackend with 4 concurrent workers.\n",
      "[Parallel(n_jobs=-1)]: Done  30 out of  30 | elapsed:  1.5min finished\n"
     ]
    },
    {
     "data": {
      "text/plain": [
       "{'n_estimators': 500,\n",
       " 'min_samples_split': 44,\n",
       " 'min_samples_leaf': 12,\n",
       " 'max_features': 'sqrt',\n",
       " 'max_depth': 6,\n",
       " 'bootstrap': True}"
      ]
     },
     "execution_count": 51,
     "metadata": {},
     "output_type": "execute_result"
    }
   ],
   "source": [
    "rs.fit(X_train, y_train)\n",
    "rs.best_params_"
   ]
  },
  {
   "cell_type": "markdown",
   "metadata": {},
   "source": [
    "Таблица со значениями параметров и их результат"
   ]
  },
  {
   "cell_type": "code",
   "execution_count": 52,
   "metadata": {},
   "outputs": [
    {
     "data": {
      "text/html": [
       "<div>\n",
       "<style scoped>\n",
       "    .dataframe tbody tr th:only-of-type {\n",
       "        vertical-align: middle;\n",
       "    }\n",
       "\n",
       "    .dataframe tbody tr th {\n",
       "        vertical-align: top;\n",
       "    }\n",
       "\n",
       "    .dataframe thead th {\n",
       "        text-align: right;\n",
       "    }\n",
       "</style>\n",
       "<table border=\"1\" class=\"dataframe\">\n",
       "  <thead>\n",
       "    <tr style=\"text-align: right;\">\n",
       "      <th></th>\n",
       "      <th>param_n_estimators</th>\n",
       "      <th>param_min_samples_split</th>\n",
       "      <th>param_min_samples_leaf</th>\n",
       "      <th>param_max_features</th>\n",
       "      <th>param_max_depth</th>\n",
       "      <th>param_bootstrap</th>\n",
       "      <th>mean_test_score</th>\n",
       "      <th>rank_test_score</th>\n",
       "    </tr>\n",
       "  </thead>\n",
       "  <tbody>\n",
       "    <tr>\n",
       "      <th>0</th>\n",
       "      <td>500</td>\n",
       "      <td>44</td>\n",
       "      <td>12</td>\n",
       "      <td>sqrt</td>\n",
       "      <td>6</td>\n",
       "      <td>True</td>\n",
       "      <td>0.907915</td>\n",
       "      <td>1</td>\n",
       "    </tr>\n",
       "    <tr>\n",
       "      <th>1</th>\n",
       "      <td>400</td>\n",
       "      <td>23</td>\n",
       "      <td>18</td>\n",
       "      <td>log2</td>\n",
       "      <td>13</td>\n",
       "      <td>False</td>\n",
       "      <td>0.904187</td>\n",
       "      <td>2</td>\n",
       "    </tr>\n",
       "    <tr>\n",
       "      <th>2</th>\n",
       "      <td>300</td>\n",
       "      <td>12</td>\n",
       "      <td>23</td>\n",
       "      <td>log2</td>\n",
       "      <td>14</td>\n",
       "      <td>False</td>\n",
       "      <td>0.898487</td>\n",
       "      <td>3</td>\n",
       "    </tr>\n",
       "    <tr>\n",
       "      <th>3</th>\n",
       "      <td>600</td>\n",
       "      <td>50</td>\n",
       "      <td>39</td>\n",
       "      <td>sqrt</td>\n",
       "      <td>8</td>\n",
       "      <td>True</td>\n",
       "      <td>0.896733</td>\n",
       "      <td>4</td>\n",
       "    </tr>\n",
       "    <tr>\n",
       "      <th>4</th>\n",
       "      <td>300</td>\n",
       "      <td>18</td>\n",
       "      <td>39</td>\n",
       "      <td>log2</td>\n",
       "      <td>8</td>\n",
       "      <td>False</td>\n",
       "      <td>0.885113</td>\n",
       "      <td>5</td>\n",
       "    </tr>\n",
       "    <tr>\n",
       "      <th>5</th>\n",
       "      <td>700</td>\n",
       "      <td>44</td>\n",
       "      <td>44</td>\n",
       "      <td>log2</td>\n",
       "      <td>13</td>\n",
       "      <td>False</td>\n",
       "      <td>0.883578</td>\n",
       "      <td>6</td>\n",
       "    </tr>\n",
       "    <tr>\n",
       "      <th>6</th>\n",
       "      <td>900</td>\n",
       "      <td>28</td>\n",
       "      <td>7</td>\n",
       "      <td>log2</td>\n",
       "      <td>5</td>\n",
       "      <td>False</td>\n",
       "      <td>0.883140</td>\n",
       "      <td>7</td>\n",
       "    </tr>\n",
       "    <tr>\n",
       "      <th>7</th>\n",
       "      <td>100</td>\n",
       "      <td>28</td>\n",
       "      <td>44</td>\n",
       "      <td>log2</td>\n",
       "      <td>9</td>\n",
       "      <td>True</td>\n",
       "      <td>0.874588</td>\n",
       "      <td>8</td>\n",
       "    </tr>\n",
       "    <tr>\n",
       "      <th>8</th>\n",
       "      <td>600</td>\n",
       "      <td>34</td>\n",
       "      <td>12</td>\n",
       "      <td>log2</td>\n",
       "      <td>4</td>\n",
       "      <td>True</td>\n",
       "      <td>0.865162</td>\n",
       "      <td>9</td>\n",
       "    </tr>\n",
       "    <tr>\n",
       "      <th>9</th>\n",
       "      <td>100</td>\n",
       "      <td>34</td>\n",
       "      <td>44</td>\n",
       "      <td>log2</td>\n",
       "      <td>1</td>\n",
       "      <td>True</td>\n",
       "      <td>0.853541</td>\n",
       "      <td>10</td>\n",
       "    </tr>\n",
       "  </tbody>\n",
       "</table>\n",
       "</div>"
      ],
      "text/plain": [
       "  param_n_estimators param_min_samples_split param_min_samples_leaf  \\\n",
       "0                500                      44                     12   \n",
       "1                400                      23                     18   \n",
       "2                300                      12                     23   \n",
       "3                600                      50                     39   \n",
       "4                300                      18                     39   \n",
       "5                700                      44                     44   \n",
       "6                900                      28                      7   \n",
       "7                100                      28                     44   \n",
       "8                600                      34                     12   \n",
       "9                100                      34                     44   \n",
       "\n",
       "  param_max_features param_max_depth param_bootstrap  mean_test_score  \\\n",
       "0               sqrt               6            True         0.907915   \n",
       "1               log2              13           False         0.904187   \n",
       "2               log2              14           False         0.898487   \n",
       "3               sqrt               8            True         0.896733   \n",
       "4               log2               8           False         0.885113   \n",
       "5               log2              13           False         0.883578   \n",
       "6               log2               5           False         0.883140   \n",
       "7               log2               9            True         0.874588   \n",
       "8               log2               4            True         0.865162   \n",
       "9               log2               1            True         0.853541   \n",
       "\n",
       "   rank_test_score  \n",
       "0                1  \n",
       "1                2  \n",
       "2                3  \n",
       "3                4  \n",
       "4                5  \n",
       "5                6  \n",
       "6                7  \n",
       "7                8  \n",
       "8                9  \n",
       "9               10  "
      ]
     },
     "execution_count": 52,
     "metadata": {},
     "output_type": "execute_result"
    }
   ],
   "source": [
    "rs_df = pd.DataFrame(rs.cv_results_).sort_values('rank_test_score').reset_index(drop=True)\n",
    "rs_df = rs_df.drop([\n",
    "            'mean_fit_time', \n",
    "            'std_fit_time', \n",
    "            'mean_score_time',\n",
    "            'std_score_time', \n",
    "            'params', \n",
    "            'split0_test_score', \n",
    "            'split1_test_score', \n",
    "            'split2_test_score', \n",
    "            'std_test_score'],\n",
    "            axis=1)\n",
    "rs_df.head(10)\n"
   ]
  },
  {
   "cell_type": "markdown",
   "metadata": {},
   "source": [
    "Создадим новую модель с подобраннами параметрами, обучим ее и оценим точность "
   ]
  },
  {
   "cell_type": "code",
   "execution_count": 53,
   "metadata": {},
   "outputs": [],
   "source": [
    "{'n_estimators': 500,\n",
    " 'min_samples_split': 44,\n",
    " 'min_samples_leaf': 12,\n",
    " 'max_features': 'sqrt',\n",
    " 'max_depth': 6,\n",
    " 'bootstrap': True}\n",
    "\n",
    "rfc = RandomForestClassifier(n_estimators= 500,\n",
    " min_samples_split= 44,\n",
    " min_samples_leaf = 12,\n",
    " max_features = 'sqrt',\n",
    " max_depth = 6,\n",
    " bootstrap = True)\n"
   ]
  },
  {
   "cell_type": "code",
   "execution_count": 54,
   "metadata": {},
   "outputs": [
    {
     "data": {
      "text/plain": [
       "RandomForestClassifier(max_depth=6, max_features='sqrt', min_samples_leaf=12,\n",
       "                       min_samples_split=44, n_estimators=500)"
      ]
     },
     "execution_count": 54,
     "metadata": {},
     "output_type": "execute_result"
    }
   ],
   "source": [
    "rfc.fit(X_train, y_train)"
   ]
  },
  {
   "cell_type": "code",
   "execution_count": 56,
   "metadata": {},
   "outputs": [
    {
     "name": "stdout",
     "output_type": "stream",
     "text": [
      "0.5980066445182723\n"
     ]
    }
   ],
   "source": [
    "print(f1_score(rfc.predict(X_test), y_test))"
   ]
  },
  {
   "cell_type": "code",
   "execution_count": null,
   "metadata": {},
   "outputs": [],
   "source": []
  }
 ],
 "metadata": {
  "kernelspec": {
   "display_name": "Python 3",
   "language": "python",
   "name": "python3"
  },
  "language_info": {
   "codemirror_mode": {
    "name": "ipython",
    "version": 3
   },
   "file_extension": ".py",
   "mimetype": "text/x-python",
   "name": "python",
   "nbconvert_exporter": "python",
   "pygments_lexer": "ipython3",
   "version": "3.7.4"
  }
 },
 "nbformat": 4,
 "nbformat_minor": 2
}
