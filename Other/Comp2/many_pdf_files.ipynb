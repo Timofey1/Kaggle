{
 "cells": [
  {
   "cell_type": "code",
   "execution_count": 1,
   "metadata": {},
   "outputs": [],
   "source": [
    "import os "
   ]
  },
  {
   "cell_type": "code",
   "execution_count": 2,
   "metadata": {},
   "outputs": [],
   "source": [
    "directory = \"C:\\\\Users\\\\user\\\\Desktop\\\\beshkurov\\\\Other\\\\Comp2\\\\Data\""
   ]
  },
  {
   "cell_type": "code",
   "execution_count": 3,
   "metadata": {},
   "outputs": [],
   "source": [
    "comps = os.listdir(directory)"
   ]
  },
  {
   "cell_type": "code",
   "execution_count": 4,
   "metadata": {},
   "outputs": [
    {
     "data": {
      "text/plain": [
       "['Информационные и коммуникационные технологии',\n",
       " 'Образование',\n",
       " 'Производство и инженерные технологии',\n",
       " 'Строительство и строительные технологии',\n",
       " 'Сфера услуг',\n",
       " 'Творчество и дизайн',\n",
       " 'Транспорт и логистика']"
      ]
     },
     "execution_count": 4,
     "metadata": {},
     "output_type": "execute_result"
    }
   ],
   "source": [
    "comps"
   ]
  },
  {
   "cell_type": "code",
   "execution_count": 5,
   "metadata": {},
   "outputs": [],
   "source": [
    "comps_files = {}"
   ]
  },
  {
   "cell_type": "code",
   "execution_count": 6,
   "metadata": {},
   "outputs": [],
   "source": [
    "for i in comps:\n",
    "    comps_files[i] = os.listdir(directory + \"\\\\\" + i)"
   ]
  },
  {
   "cell_type": "code",
   "execution_count": 7,
   "metadata": {},
   "outputs": [
    {
     "data": {
      "text/plain": [
       "181"
      ]
     },
     "execution_count": 7,
     "metadata": {},
     "output_type": "execute_result"
    }
   ],
   "source": [
    "c=0\n",
    "for i in comps_files:\n",
    "    for j in comps_files[i]:\n",
    "        c+=1\n",
    "c"
   ]
  },
  {
   "cell_type": "markdown",
   "metadata": {},
   "source": [
    "# One File"
   ]
  },
  {
   "cell_type": "code",
   "execution_count": 8,
   "metadata": {},
   "outputs": [],
   "source": [
    "import pandas as pd\n",
    "import numpy as nmp\n",
    "import pdfplumber"
   ]
  },
  {
   "cell_type": "code",
   "execution_count": 16,
   "metadata": {},
   "outputs": [],
   "source": [
    "def one_file_table(filename, pg):\n",
    "    L=[]\n",
    "    pdf = pdfplumber.open(filename)\n",
    "    for i in range(pg):\n",
    "        page = pdf.pages[i]\n",
    "        try:\n",
    "            table = page.extract_table()\n",
    "            df = pd.DataFrame(table)\n",
    "            L.append(df)\n",
    "        except Exception:\n",
    "            print(\"n\", end = \",\")\n",
    "    df = pd.concat(L,ignore_index=True)\n",
    "    df.columns = [\"Раздел\", \"Слова\", \"Важность\"]\n",
    "    df = df.drop([0,1,2]).reset_index(drop=True)\n",
    "    return df"
   ]
  },
  {
   "cell_type": "code",
   "execution_count": 17,
   "metadata": {},
   "outputs": [],
   "source": [
    "def one_file_table_2(filename, pg):\n",
    "    L=[]\n",
    "    pdf = pdfplumber.open(filename)\n",
    "    for i in range(pg):\n",
    "        page = pdf.pages[i]\n",
    "        try:\n",
    "            table = page.extract_table()\n",
    "            df = pd.DataFrame(table)\n",
    "\n",
    "            if df.shape[0] > 1:\n",
    "                df = df.drop([0,2,5,6,8], axis=1)\n",
    "                for i in range(len(df)):\n",
    "                    if df.iloc[i][4] != None:\n",
    "                        df.iloc[i][3] = df.iloc[i][4]\n",
    "                df = df.drop([4], axis=1)\n",
    "                L.append(df)\n",
    "        except Exception:\n",
    "            print(\"n\", end = \",\")\n",
    "    df= pd.concat(L)    \n",
    "    df.columns = [\"Раздел\", \"Слова\", \"Важность\"]\n",
    "    df= df.drop([0,1]).reset_index(drop=True)\n",
    "    return df\n"
   ]
  },
  {
   "cell_type": "code",
   "execution_count": 25,
   "metadata": {},
   "outputs": [
    {
     "name": "stdout",
     "output_type": "stream",
     "text": [
      "n,n,n,n,n,n,n,n,n,n,n,n,n,n,n,n,n,n,n,n,n,n,n,n,n,n,n,n,n,n,n,n,n,n,n,n,n,n,n,n,n,n,n,n,n,n,n,n,n,n,n,n,n,n,n,n,n,n,n,n,n,n,n,n,n,n,n,n,n,n,n,n,n,n,n,Магистральные линии связи. Строительство и эксплуатация ВОЛП.pdf\n",
      "n,n,n,n,n,n,n,n,n,n,n,n,n,n,n,n,n,n,n,n,n,n,n,n,n,n,n,n,n,n,n,n,n,n,n,n,n,n,n,n,n,n,n,n,n,n,n,n,n,n,n,n,n,n,n,n,n,n,n,n,n,n,n,n,n,n,n,n,n,n,n,n,n,n,n,n,n,n,n,n,n,n,n,n,n,n,n,n,n,n,n,n,n,n,n,n,n,n,n,n,n,n,n,n,n,n,n,n,n,n,n,n,n,n,n,n,n,n,n,n,n,n,n,n,n,n,n,n,n,n,n,n,n,n,n,n,n,n,n,n,n,n,n,Интернет вещей.pdf\n",
      "n,n,n,n,n,n,n,n,n,n,n,n,n,n,n,n,Мехатроника .pdf\n",
      "n,n,n,n,n,n,n,n,n,n,n,n,n,n,n,n,n,n,n,n,n,n,n,n,n,n,n,n,n,n,n,n,n,Многоосевая обработка на станках с ЧПУ.pdf\n",
      "n,n,n,n,n,n,n,n,n,n,n,n,n,n,n,n,n,n,Обслуживание и ремонт оборудования релейной защиты и автоматики.pdf\n",
      "n,n,n,n,Полимеханика и автоматизация.pdf\n",
      "n,n,n,n,n,n,n,n,n,n,n,n,n,n,n,n,n,n,n,n,n,n,n,n,n,n,Промышленная механика и монтаж.pdf\n",
      "n,n,n,n,n,n,n,n,n,n,n,n,n,n,n,n,n,n,n,n,n,n,n,n,n,n,n,n,n,n,n,n,n,n,n,n,n,n,n,n,n,n,n,n,n,n,n,n,n,n,n,n,n,n,n,n,n,n,n,n,n,n,n,n,n,n,n,n,n,n,n,n,n,n,n,n,n,n,n,n,n,n,n,n,n,n,n,n,n,n,n,n,n,n,n,n,n,Управление жизненным циклом,управление программой.pdf\n",
      "n,n,n,n,n,n,n,n,n,n,n,n,n,n,n,Архитектурная обработка камня.pdf\n",
      "n,n,n,n,n,n,n,n,n,n,n,n,n,n,Геодезия(16-22).pdf\n",
      "n,n,n,n,n,n,n,n,n,n,Геодезия(юниоры).pdf\n",
      "n,n,n,n,n,n,n,n,n,n,Геодезия.pdf\n",
      "n,n,n,n,n,n,n,n,n,n,n,n,n,n,n,n,n,Кирпичная кладка(юниоры).pdf\n",
      "n,n,n,n,n,n,n,n,n,n,n,n,n,n,n,n,n,n,n,n,n,n,n,n,n,n,n,n,n,n,n,n,n,n,n,n,n,n,n,n,n,n,n,n,n,Производство мебели(юниоры).pdf\n",
      "n,n,n,n,Производство мебели.pdf\n",
      "n,n,n,n,n,n,n,n,n,n,n,n,n,n,n,n,n,n,n,n,n,n,n,n,n,n,n,n,n,n,n,n,n,n,n,n,n,n,n,n,n,n,n,n,n,n,n,n,n,n,n,n,n,n,n,n,n,n,n,n,n,n,n,n,n,n,n,n,n,n,n,n,n,n,n,n,n,n,n,n,n,n,n,n,n,n,n,n,n,n,n,n,n,n,n,Виноделие.pdf\n",
      "n,n,n,n,n,n,n,n,n,n,n,n,n,n,n,n,n,n,n,n,n,n,n,n,n,n,n,n,n,n,n,n,n,Медицинский и социальный уход(Юниоры).pdf\n",
      "n,n,n,n,n,n,n,n,n,n,n,Медицинский и социальный уход.pdf\n",
      "n,n,n,n,n,n,n,n,n,n,n,n,n,n,n,n,n,n,n,n,n,n,n,n,n,n,n,n,n,n,n,n,n,n,n,n,Охрана труда.pdf\n",
      "n,n,n,n,n,n,n,n,n,n,n,n,n,n,n,n,n,n,n,n,n,n,n,n,n,n,n,n,n,Правоохранительная деятельность (Полицейский).pdf\n",
      "n,n,n,n,n,n,n,n,n,n,n,n,n,n,n,n,n,Предпринимательство(Юниоры).pdf\n",
      "n,n,n,n,n,n,n,n,n,n,n,n,n,n,n,n,n,Предпринимательство.pdf\n",
      "n,n,n,n,n,n,n,n,n,n,n,n,n,n,n,n,n,n,n,n,n,n,n,n,n,n,n,n,n,n,n,n,n,n,Турагентская деятельность.pdf\n",
      "n,n,n,n,n,n,n,n,n,n,n,n,n,n,n,n,n,n,Туроператорская деятельность.pdf\n",
      "n,n,n,n,n,n,n,n,n,n,n,n,n,n,n,n,n,n,n,n,n,n,Эстетическая косметология(Юниоры).pdf\n",
      "n,n,n,n,n,n,n,n,n,n,n,n,n,Эстетическая косметология.pdf\n",
      "n,n,n,n,n,n,n,n,n,n,n,n,n,n,n,n,n,n,n,n,n,n,n,n,n,n,n,n,n,n,n,n,n,n,n,n,n,n,n,n,n,n,n,n,n,n,n,n,n,n,n,n,n,n,n,n,n,n,n,n,n,n,n,n,n,n,n,n,n,n,n,n,n,n,n,n,n,n,n,n,n,n,n,n,n,n,n,n,n,n,n,n,n,n,n,n,n,n,n,n,n,n,n,n,n,n,n,n,n,Дизайн интерьера(юниоры).pdf\n",
      "n,n,n,n,n,n,n,n,n,n,n,n,n,n,n,n,n,n,n,n,n,n,n,n,n,n,n,n,n,n,n,n,n,n,n,n,n,n,n,n,n,n,n,n,n,n,n,n,n,n,n,n,n,n,n,n,n,n,n,n,n,n,n,n,n,n,n,n,n,n,n,n,n,n,Фотография .pdf\n",
      "n,n,n,n,n,n,n,n,n,n,n,n,n,n,n,n,n,n,n,n,n,n,n,n,n,n,n,n,n,n,n,n,n,n,n,n,n,n,n,n,n,n,n,n,n,n,n,n,n,n,n,n,n,n,n,n,n,n,n,n,n,n,n,n,n,n,n,n,n,n,n,n,n,n,n,n,n,n,n,n,n,n,n,n,n,n,n,n,n,n,n,n,n,n,n,n,n,n,n,n,n,n,n,n,n,n,n,n,n,n,n,n,n,n,n,n,n,n,n,n,n,n,n,n,n,n,n,n,n,n,n,n,n,n,n,n,n,n,n,n,n,n,n,n,n,n,n,n,n,n,n,n,n,n,n,n,n,n,n,n,n,Окраска автомобиля .pdf\n",
      "n,n,n,n,Ремонт и обслуживание легковых автомобилей(12-14).pdf\n",
      "n,n,n,n,Ремонт и обслуживание легковых автомобилей(юниоры).pdf\n",
      "n,n,n,n,n,n,n,n,n,n,n,n,n,Сервис на воздушном транспорте(юниоры).pdf\n",
      "n,n,n,n,n,n,n,n,n,n,n,n,n,n,Сервис на воздушном транспорте.pdf\n",
      "n,n,n,n,n,n,n,n,n,n,n,n,n,n,n,n,n,n,n,n,n,n,n,n,n,n,n,n,n,n,n,n,n,n,n,n,n,n,n,n,Управление автогрейдером.pdf\n",
      "n,n,n,n,n,n,n,n,n,n,n,n,n,n,n,n,n,n,n,n,n,n,n,n,n,n,n,n,n,n,n,n,n,n,n,n,n,n,n,n,n,n,Управление бульдозером.pdf\n",
      "n,n,n,n,n,n,n,n,n,n,n,n,n,n,n,n,n,n,n,n,n,n,n,n,n,n,n,n,n,n,n,n,n,n,n,n,n,n,n,n,Управление локомотивом.pdf\n",
      "n,n,n,n,n,n,n,n,n,n,n,n,n,n,n,n,n,n,n,n,n,n,n,n,n,n,n,n,n,n,n,n,n,n,n,n,n,n,n,n,n,n,n,n,n,n,n,n,n,n,n,n,n,n,n,n,n,n,n,n,n,n,n,n,n,n,n,n,n,n,n,Управление экскаватором.pdf\n",
      "n,n,n,n,n,n,n,n,n,n,n,n,n,n,Экспедирование грузов.pdf\n",
      "n,n,n,n,n,n,n,n,n,n,n,n,n,n,n,n,n,n,n,n,n,n,n,n,n,n,n,n,n,n,n,n,n,n,n,n,n,n,n,n,n,n,n,n,n,n,n,n,n,n,Эксплуатация беспилотных авиационных систем(юниоры).pdf\n",
      "n,n,n,n,n,n,n,n,n,n,n,n,n,n,n,n,n,n,n,n,n,n,n,n,n,n,n,n,n,n,n,n,n,n,n,n,n,n,n,n,n,n,n,n,n,n,n,n,n,n,Эксплуатация беспилотных авиационных систем.pdf\n",
      "1557.5558171272278\n"
     ]
    }
   ],
   "source": [
    "import time\n",
    "now = time.time()\n",
    "\n",
    "FFF=[]\n",
    "DF=[]\n",
    "for block in comps_files:\n",
    "    url = \"C:\\\\Users\\\\user\\\\Desktop\\\\beshkurov\\\\Other\\\\Comp2\\\\Data\\\\\" + block + \"\\\\\"\n",
    "    for fname in comps_files[block]:\n",
    "        filepath = url + fname\n",
    "        try:\n",
    "            df = one_file_table(filepath, 14)\n",
    "        except Exception:\n",
    "            try:\n",
    "                df = one_file_table_2(filepath, 14)\n",
    "            except Exception:\n",
    "                try:\n",
    "                    df = one_file_table(filepath, 11)\n",
    "                except Exception:\n",
    "                    try:\n",
    "                        df = one_file_table_2(filepath, 11)\n",
    "                    except Exception:\n",
    "                        print(fname)\n",
    "                        FFF.append(fname)\n",
    "                        continue\n",
    "        df[\"Компетенция\"] = fname[:fname.find(\".\")]\n",
    "        df[\"Блок\"] = block\n",
    "        DF.append(df)\n",
    "print(time.time() - now)   \n",
    "        "
   ]
  },
  {
   "cell_type": "code",
   "execution_count": 27,
   "metadata": {},
   "outputs": [],
   "source": [
    "main_df = pd.concat(DF, ignore_index=True)"
   ]
  },
  {
   "cell_type": "code",
   "execution_count": 28,
   "metadata": {},
   "outputs": [],
   "source": [
    "main_df.to_csv(\"main.csv\")"
   ]
  },
  {
   "cell_type": "code",
   "execution_count": 36,
   "metadata": {},
   "outputs": [
    {
     "data": {
      "text/html": [
       "<div>\n",
       "<style scoped>\n",
       "    .dataframe tbody tr th:only-of-type {\n",
       "        vertical-align: middle;\n",
       "    }\n",
       "\n",
       "    .dataframe tbody tr th {\n",
       "        vertical-align: top;\n",
       "    }\n",
       "\n",
       "    .dataframe thead th {\n",
       "        text-align: right;\n",
       "    }\n",
       "</style>\n",
       "<table border=\"1\" class=\"dataframe\">\n",
       "  <thead>\n",
       "    <tr style=\"text-align: right;\">\n",
       "      <th></th>\n",
       "      <th>Раздел</th>\n",
       "      <th>Слова</th>\n",
       "      <th>Важность</th>\n",
       "      <th>Компетенция</th>\n",
       "      <th>Блок</th>\n",
       "    </tr>\n",
       "  </thead>\n",
       "  <tbody>\n",
       "    <tr>\n",
       "      <td>0</td>\n",
       "      <td></td>\n",
       "      <td>None</td>\n",
       "      <td>None</td>\n",
       "      <td>Информационные кабельные сети(юниоры)</td>\n",
       "      <td>Информационные и коммуникационные технологии</td>\n",
       "    </tr>\n",
       "    <tr>\n",
       "      <td>1</td>\n",
       "      <td>1</td>\n",
       "      <td>Организация работ</td>\n",
       "      <td>5</td>\n",
       "      <td>Информационные кабельные сети(юниоры)</td>\n",
       "      <td>Информационные и коммуникационные технологии</td>\n",
       "    </tr>\n",
       "    <tr>\n",
       "      <td>2</td>\n",
       "      <td></td>\n",
       "      <td>Специалист должен знать и понимать: \\n  Закон...</td>\n",
       "      <td></td>\n",
       "      <td>Информационные кабельные сети(юниоры)</td>\n",
       "      <td>Информационные и коммуникационные технологии</td>\n",
       "    </tr>\n",
       "    <tr>\n",
       "      <td>3</td>\n",
       "      <td></td>\n",
       "      <td>Специалист должен уметь: \\n  Следовать правил...</td>\n",
       "      <td></td>\n",
       "      <td>Информационные кабельные сети(юниоры)</td>\n",
       "      <td>Информационные и коммуникационные технологии</td>\n",
       "    </tr>\n",
       "    <tr>\n",
       "      <td>4</td>\n",
       "      <td></td>\n",
       "      <td>  Проявлять энтузиазм в апробации новых метод...</td>\n",
       "      <td></td>\n",
       "      <td>Информационные кабельные сети(юниоры)</td>\n",
       "      <td>Информационные и коммуникационные технологии</td>\n",
       "    </tr>\n",
       "    <tr>\n",
       "      <td>...</td>\n",
       "      <td>...</td>\n",
       "      <td>...</td>\n",
       "      <td>...</td>\n",
       "      <td>...</td>\n",
       "      <td>...</td>\n",
       "    </tr>\n",
       "    <tr>\n",
       "      <td>2583</td>\n",
       "      <td>None</td>\n",
       "      <td>  контролировать наличие посторонних предмето...</td>\n",
       "      <td>None</td>\n",
       "      <td>Управление фронтальным погрузчиком</td>\n",
       "      <td>Транспорт и логистика</td>\n",
       "    </tr>\n",
       "    <tr>\n",
       "      <td>2584</td>\n",
       "      <td>None</td>\n",
       "      <td>пней),ограждений и предупредительных знаков в ...</td>\n",
       "      <td>None</td>\n",
       "      <td>Управление фронтальным погрузчиком</td>\n",
       "      <td>Транспорт и логистика</td>\n",
       "    </tr>\n",
       "    <tr>\n",
       "      <td>2585</td>\n",
       "      <td>None</td>\n",
       "      <td>  выявлять,  устранять  и  предотвращать  при...</td>\n",
       "      <td>None</td>\n",
       "      <td>Управление фронтальным погрузчиком</td>\n",
       "      <td>Транспорт и логистика</td>\n",
       "    </tr>\n",
       "    <tr>\n",
       "      <td>2586</td>\n",
       "      <td>None</td>\n",
       "      <td>нарушений технологического процесса.</td>\n",
       "      <td>None</td>\n",
       "      <td>Управление фронтальным погрузчиком</td>\n",
       "      <td>Транспорт и логистика</td>\n",
       "    </tr>\n",
       "    <tr>\n",
       "      <td>2587</td>\n",
       "      <td></td>\n",
       "      <td>Всего</td>\n",
       "      <td>100</td>\n",
       "      <td>Управление фронтальным погрузчиком</td>\n",
       "      <td>Транспорт и логистика</td>\n",
       "    </tr>\n",
       "  </tbody>\n",
       "</table>\n",
       "<p>2588 rows × 5 columns</p>\n",
       "</div>"
      ],
      "text/plain": [
       "     Раздел                                              Слова Важность  \\\n",
       "0                                                         None     None   \n",
       "1         1                                  Организация работ        5   \n",
       "2            Специалист должен знать и понимать: \\n  Закон...            \n",
       "3            Специалист должен уметь: \\n  Следовать правил...            \n",
       "4              Проявлять энтузиазм в апробации новых метод...            \n",
       "...     ...                                                ...      ...   \n",
       "2583   None    контролировать наличие посторонних предмето...     None   \n",
       "2584   None  пней),ограждений и предупредительных знаков в ...     None   \n",
       "2585   None    выявлять,  устранять  и  предотвращать  при...     None   \n",
       "2586   None               нарушений технологического процесса.     None   \n",
       "2587                                                     Всего      100   \n",
       "\n",
       "                                Компетенция  \\\n",
       "0     Информационные кабельные сети(юниоры)   \n",
       "1     Информационные кабельные сети(юниоры)   \n",
       "2     Информационные кабельные сети(юниоры)   \n",
       "3     Информационные кабельные сети(юниоры)   \n",
       "4     Информационные кабельные сети(юниоры)   \n",
       "...                                     ...   \n",
       "2583     Управление фронтальным погрузчиком   \n",
       "2584     Управление фронтальным погрузчиком   \n",
       "2585     Управление фронтальным погрузчиком   \n",
       "2586     Управление фронтальным погрузчиком   \n",
       "2587     Управление фронтальным погрузчиком   \n",
       "\n",
       "                                              Блок  \n",
       "0     Информационные и коммуникационные технологии  \n",
       "1     Информационные и коммуникационные технологии  \n",
       "2     Информационные и коммуникационные технологии  \n",
       "3     Информационные и коммуникационные технологии  \n",
       "4     Информационные и коммуникационные технологии  \n",
       "...                                            ...  \n",
       "2583                         Транспорт и логистика  \n",
       "2584                         Транспорт и логистика  \n",
       "2585                         Транспорт и логистика  \n",
       "2586                         Транспорт и логистика  \n",
       "2587                         Транспорт и логистика  \n",
       "\n",
       "[2588 rows x 5 columns]"
      ]
     },
     "execution_count": 36,
     "metadata": {},
     "output_type": "execute_result"
    }
   ],
   "source": [
    "main_df"
   ]
  },
  {
   "cell_type": "code",
   "execution_count": 33,
   "metadata": {},
   "outputs": [
    {
     "data": {
      "text/plain": [
       "40"
      ]
     },
     "execution_count": 33,
     "metadata": {},
     "output_type": "execute_result"
    }
   ],
   "source": [
    "len(FFF)"
   ]
  }
 ],
 "metadata": {
  "kernelspec": {
   "display_name": "Python 3",
   "language": "python",
   "name": "python3"
  },
  "language_info": {
   "codemirror_mode": {
    "name": "ipython",
    "version": 3
   },
   "file_extension": ".py",
   "mimetype": "text/x-python",
   "name": "python",
   "nbconvert_exporter": "python",
   "pygments_lexer": "ipython3",
   "version": "3.7.4"
  }
 },
 "nbformat": 4,
 "nbformat_minor": 2
}
