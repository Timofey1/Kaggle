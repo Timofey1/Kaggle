{
 "cells": [
  {
   "cell_type": "code",
   "execution_count": 1,
   "metadata": {},
   "outputs": [],
   "source": [
    "import tabula\n",
    "import pandas as pd\n",
    "import numpy as nmp\n",
    "import matplotlib.pyplot as plt\n",
    "%matplotlib inline\n",
    "import seaborn as sns"
   ]
  },
  {
   "cell_type": "code",
   "execution_count": 2,
   "metadata": {},
   "outputs": [
    {
     "name": "stderr",
     "output_type": "stream",
     "text": [
      "Got stderr: фев 18, 2020 3:30:33 PM org.apache.pdfbox.pdmodel.font.PDCIDFontType2 <init>\r\n",
      "INFO: OpenType Layout tables used in font ABCDEE+Times New Roman,BoldItalic are not implemented in PDFBox and will be ignored\r\n",
      "фев 18, 2020 3:30:33 PM org.apache.pdfbox.pdmodel.font.PDCIDFontType2 <init>\r\n",
      "INFO: OpenType Layout tables used in font ABCDEE+Times New Roman,Bold are not implemented in PDFBox and will be ignored\r\n",
      "фев 18, 2020 3:30:33 PM org.apache.pdfbox.pdmodel.font.PDCIDFontType2 <init>\r\n",
      "INFO: OpenType Layout tables used in font ABCDEE+Times New Roman are not implemented in PDFBox and will be ignored\r\n",
      "фев 18, 2020 3:30:33 PM org.apache.pdfbox.pdmodel.font.PDCIDFontType2 <init>\r\n",
      "INFO: OpenType Layout tables used in font ABCDEE+Calibri,Bold are not implemented in PDFBox and will be ignored\r\n",
      "фев 18, 2020 3:30:38 PM org.apache.pdfbox.pdmodel.font.PDCIDFontType2 <init>\r\n",
      "INFO: OpenType Layout tables used in font ABCDEE+Times New Roman,BoldItalic are not implemented in PDFBox and will be ignored\r\n",
      "фев 18, 2020 3:30:38 PM org.apache.pdfbox.pdmodel.font.PDCIDFontType2 <init>\r\n",
      "INFO: OpenType Layout tables used in font ABCDEE+Times New Roman,Bold are not implemented in PDFBox and will be ignored\r\n",
      "фев 18, 2020 3:30:38 PM org.apache.pdfbox.pdmodel.font.PDCIDFontType2 <init>\r\n",
      "INFO: OpenType Layout tables used in font ABCDEE+Times New Roman are not implemented in PDFBox and will be ignored\r\n",
      "фев 18, 2020 3:30:38 PM org.apache.pdfbox.pdmodel.font.PDCIDFontType2 <init>\r\n",
      "INFO: OpenType Layout tables used in font ABCDEE+Calibri,Bold are not implemented in PDFBox and will be ignored\r\n",
      "фев 18, 2020 3:30:41 PM org.apache.pdfbox.pdmodel.font.PDCIDFontType2 <init>\r\n",
      "INFO: OpenType Layout tables used in font ABCDEE+Times New Roman,BoldItalic are not implemented in PDFBox and will be ignored\r\n",
      "фев 18, 2020 3:30:41 PM org.apache.pdfbox.pdmodel.font.PDCIDFontType2 <init>\r\n",
      "INFO: OpenType Layout tables used in font ABCDEE+Times New Roman,Bold are not implemented in PDFBox and will be ignored\r\n",
      "фев 18, 2020 3:30:41 PM org.apache.pdfbox.pdmodel.font.PDCIDFontType2 <init>\r\n",
      "INFO: OpenType Layout tables used in font ABCDEE+Times New Roman are not implemented in PDFBox and will be ignored\r\n",
      "фев 18, 2020 3:30:41 PM org.apache.pdfbox.pdmodel.font.PDCIDFontType2 <init>\r\n",
      "INFO: OpenType Layout tables used in font ABCDEE+Calibri,Bold are not implemented in PDFBox and will be ignored\r\n",
      "фев 18, 2020 3:30:44 PM org.apache.pdfbox.pdmodel.font.PDCIDFontType2 <init>\r\n",
      "INFO: OpenType Layout tables used in font ABCDEE+Times New Roman,Bold are not implemented in PDFBox and will be ignored\r\n",
      "фев 18, 2020 3:30:45 PM org.apache.pdfbox.pdmodel.font.PDCIDFontType2 <init>\r\n",
      "INFO: OpenType Layout tables used in font ABCDEE+Times New Roman are not implemented in PDFBox and will be ignored\r\n",
      "фев 18, 2020 3:30:47 PM org.apache.pdfbox.pdmodel.font.PDCIDFontType2 <init>\r\n",
      "INFO: OpenType Layout tables used in font ABCDEE+Times New Roman,Bold are not implemented in PDFBox and will be ignored\r\n",
      "фев 18, 2020 3:30:47 PM org.apache.pdfbox.pdmodel.font.PDCIDFontType2 <init>\r\n",
      "INFO: OpenType Layout tables used in font ABCDEE+Times New Roman are not implemented in PDFBox and will be ignored\r\n",
      "фев 18, 2020 3:30:53 PM org.apache.pdfbox.pdmodel.font.PDCIDFontType2 <init>\r\n",
      "INFO: OpenType Layout tables used in font ABCDEE+Arial are not implemented in PDFBox and will be ignored\r\n",
      "фев 18, 2020 3:30:53 PM org.apache.pdfbox.pdmodel.font.PDCIDFontType2 <init>\r\n",
      "INFO: OpenType Layout tables used in font ABCDEE+Arial,Bold are not implemented in PDFBox and will be ignored\r\n",
      "фев 18, 2020 3:30:53 PM org.apache.pdfbox.pdmodel.font.PDCIDFontType2 <init>\r\n",
      "INFO: OpenType Layout tables used in font ABCDEE+Arial are not implemented in PDFBox and will be ignored\r\n",
      "фев 18, 2020 3:30:53 PM org.apache.pdfbox.pdmodel.font.PDCIDFontType2 <init>\r\n",
      "INFO: OpenType Layout tables used in font ABCDEE+Arial,Bold are not implemented in PDFBox and will be ignored\r\n",
      "фев 18, 2020 3:30:54 PM org.apache.pdfbox.pdmodel.font.PDCIDFontType2 <init>\r\n",
      "INFO: OpenType Layout tables used in font ABCDEE+Arial are not implemented in PDFBox and will be ignored\r\n",
      "фев 18, 2020 3:30:54 PM org.apache.pdfbox.pdmodel.font.PDCIDFontType2 <init>\r\n",
      "INFO: OpenType Layout tables used in font ABCDEE+Arial,Bold are not implemented in PDFBox and will be ignored\r\n",
      "\n"
     ]
    }
   ],
   "source": [
    "df = tabula.read_pdf(\"11.12.2019_11.12.2019-8.pdf\", java_options=\"-Dfile.encoding=UTF8\", pages=\"all\")"
   ]
  },
  {
   "cell_type": "code",
   "execution_count": 3,
   "metadata": {},
   "outputs": [],
   "source": [
    "df =df[:-1]\n"
   ]
  },
  {
   "cell_type": "code",
   "execution_count": 4,
   "metadata": {},
   "outputs": [
    {
     "data": {
      "text/plain": [
       "No                             CIS\n",
       "Unnamed: 0                     Тип\n",
       "Future                      Skills\n",
       "Unnamed: 1                  Юниоры\n",
       "Unnamed: 2    Название компетенции\n",
       "Unnamed: 3      Name of competence\n",
       "Unnamed: 4      Статус компетенции\n",
       "Unnamed: 5        Блок компетенций\n",
       "Name: 0, dtype: object"
      ]
     },
     "execution_count": 4,
     "metadata": {},
     "output_type": "execute_result"
    }
   ],
   "source": [
    "df[0].iloc[0]"
   ]
  },
  {
   "cell_type": "code",
   "execution_count": 5,
   "metadata": {},
   "outputs": [],
   "source": [
    "df[0].columns = df[0].iloc[0]"
   ]
  },
  {
   "cell_type": "code",
   "execution_count": 6,
   "metadata": {},
   "outputs": [],
   "source": [
    "for i in df:\n",
    "    i.columns = df[0].iloc[0]"
   ]
  },
  {
   "cell_type": "code",
   "execution_count": 7,
   "metadata": {},
   "outputs": [],
   "source": [
    "DF=pd.concat(df)"
   ]
  },
  {
   "cell_type": "code",
   "execution_count": 8,
   "metadata": {},
   "outputs": [
    {
     "data": {
      "text/plain": [
       "(191, 8)"
      ]
     },
     "execution_count": 8,
     "metadata": {},
     "output_type": "execute_result"
    }
   ],
   "source": [
    "DF.shape"
   ]
  },
  {
   "cell_type": "code",
   "execution_count": 9,
   "metadata": {},
   "outputs": [
    {
     "data": {
      "image/png": "[encoded data removed]",
      "text/plain": [
       "<Figure size 360x720 with 1 Axes>"
      ]
     },
     "metadata": {
      "needs_background": "light"
     },
     "output_type": "display_data"
    }
   ],
   "source": [
    "plt.figure(figsize=(5,10))\n",
    "missing = pd.DataFrame({'column':DF.columns ,'na_percent':DF.isnull().sum()/len(df)*100})\n",
    "missing.sort_values('na_percent',inplace=True)\n",
    "plt.barh(missing['column'],width=missing['na_percent']);"
   ]
  },
  {
   "cell_type": "code",
   "execution_count": 10,
   "metadata": {},
   "outputs": [
    {
     "data": {
      "text/plain": [
       "Index(['CIS', 'Тип', 'Skills', 'Юниоры', 'Название компетенции',\n",
       "       'Name of competence', 'Статус компетенции', 'Блок компетенций'],\n",
       "      dtype='object', name=0)"
      ]
     },
     "execution_count": 10,
     "metadata": {},
     "output_type": "execute_result"
    }
   ],
   "source": [
    "DF.columns"
   ]
  },
  {
   "cell_type": "code",
   "execution_count": 11,
   "metadata": {},
   "outputs": [],
   "source": [
    "DF = DF.drop(['Skills'], axis=1)"
   ]
  },
  {
   "cell_type": "code",
   "execution_count": 12,
   "metadata": {},
   "outputs": [],
   "source": [
    "DF = DF.drop([\"Юниоры\"], axis=1)"
   ]
  },
  {
   "cell_type": "code",
   "execution_count": 13,
   "metadata": {},
   "outputs": [
    {
     "name": "stdout",
     "output_type": "stream",
     "text": [
      "False    183\n",
      "True       8\n",
      "Name: CIS, dtype: int64\n",
      "------------\n",
      "False    183\n",
      "True       8\n",
      "Name: Тип, dtype: int64\n",
      "------------\n",
      "False    184\n",
      "True       7\n",
      "Name: Название компетенции, dtype: int64\n",
      "------------\n",
      "False    183\n",
      "True       8\n",
      "Name: Name of competence, dtype: int64\n",
      "------------\n",
      "False    183\n",
      "True       8\n",
      "Name: Статус компетенции, dtype: int64\n",
      "------------\n",
      "False    190\n",
      "True       1\n",
      "Name: Блок компетенций, dtype: int64\n",
      "------------\n"
     ]
    }
   ],
   "source": [
    "for col in DF.columns:\n",
    "    print(DF[col].isnull().value_counts())\n",
    "    print(\"------------\")"
   ]
  },
  {
   "cell_type": "code",
   "execution_count": 14,
   "metadata": {},
   "outputs": [
    {
     "name": "stdout",
     "output_type": "stream",
     "text": [
      "____________________________\n"
     ]
    }
   ],
   "source": [
    "rows = []\n",
    "for col in DF.columns[:-1]:\n",
    "    for i in range(191):\n",
    "        if DF[col].isnull().iloc[i] == True:\n",
    "            rows.append(i)\n",
    "    print(\"____________________________\")\n",
    "    break"
   ]
  },
  {
   "cell_type": "code",
   "execution_count": 15,
   "metadata": {},
   "outputs": [
    {
     "data": {
      "text/plain": [
       "[2, 4, 5, 11, 17, 19, 21, 23]"
      ]
     },
     "execution_count": 15,
     "metadata": {},
     "output_type": "execute_result"
    }
   ],
   "source": [
    "rows"
   ]
  },
  {
   "cell_type": "code",
   "execution_count": 20,
   "metadata": {},
   "outputs": [],
   "source": [
    "DF = DF.dropna(how=\"any\")"
   ]
  },
  {
   "cell_type": "code",
   "execution_count": 24,
   "metadata": {},
   "outputs": [],
   "source": []
  },
  {
   "cell_type": "code",
   "execution_count": 32,
   "metadata": {},
   "outputs": [],
   "source": [
    "DF = DF.iloc[1:]"
   ]
  },
  {
   "cell_type": "code",
   "execution_count": 33,
   "metadata": {},
   "outputs": [
    {
     "data": {
      "text/html": [
       "<div>\n",
       "<style scoped>\n",
       "    .dataframe tbody tr th:only-of-type {\n",
       "        vertical-align: middle;\n",
       "    }\n",
       "\n",
       "    .dataframe tbody tr th {\n",
       "        vertical-align: top;\n",
       "    }\n",
       "\n",
       "    .dataframe thead th {\n",
       "        text-align: right;\n",
       "    }\n",
       "</style>\n",
       "<table border=\"1\" class=\"dataframe\">\n",
       "  <thead>\n",
       "    <tr style=\"text-align: right;\">\n",
       "      <th></th>\n",
       "      <th>CIS</th>\n",
       "      <th>Тип</th>\n",
       "      <th>Название компетенции</th>\n",
       "      <th>Name of competence</th>\n",
       "      <th>Статус компетенции</th>\n",
       "      <th>Блок компетенций</th>\n",
       "    </tr>\n",
       "  </thead>\n",
       "  <tbody>\n",
       "    <tr>\n",
       "      <td>count</td>\n",
       "      <td>181</td>\n",
       "      <td>181</td>\n",
       "      <td>181</td>\n",
       "      <td>181</td>\n",
       "      <td>181</td>\n",
       "      <td>181</td>\n",
       "    </tr>\n",
       "    <tr>\n",
       "      <td>unique</td>\n",
       "      <td>180</td>\n",
       "      <td>4</td>\n",
       "      <td>180</td>\n",
       "      <td>180</td>\n",
       "      <td>5</td>\n",
       "      <td>11</td>\n",
       "    </tr>\n",
       "    <tr>\n",
       "      <td>top</td>\n",
       "      <td>No\\rCIS</td>\n",
       "      <td>RU</td>\n",
       "      <td>Название компетенции</td>\n",
       "      <td>Name of competence</td>\n",
       "      <td>1) Основная</td>\n",
       "      <td>Производство и инженерные\\rтехнологии</td>\n",
       "    </tr>\n",
       "    <tr>\n",
       "      <td>freq</td>\n",
       "      <td>2</td>\n",
       "      <td>124</td>\n",
       "      <td>2</td>\n",
       "      <td>2</td>\n",
       "      <td>80</td>\n",
       "      <td>53</td>\n",
       "    </tr>\n",
       "  </tbody>\n",
       "</table>\n",
       "</div>"
      ],
      "text/plain": [
       "0           CIS  Тип  Название компетенции  Name of competence  \\\n",
       "count       181  181                   181                 181   \n",
       "unique      180    4                   180                 180   \n",
       "top     No\\rCIS   RU  Название компетенции  Name of competence   \n",
       "freq          2  124                     2                   2   \n",
       "\n",
       "0      Статус компетенции                       Блок компетенций  \n",
       "count                 181                                    181  \n",
       "unique                  5                                     11  \n",
       "top           1) Основная  Производство и инженерные\\rтехнологии  \n",
       "freq                   80                                     53  "
      ]
     },
     "execution_count": 33,
     "metadata": {},
     "output_type": "execute_result"
    }
   ],
   "source": [
    "DF.describe()"
   ]
  },
  {
   "cell_type": "code",
   "execution_count": 34,
   "metadata": {},
   "outputs": [
    {
     "data": {
      "text/html": [
       "<div>\n",
       "<style scoped>\n",
       "    .dataframe tbody tr th:only-of-type {\n",
       "        vertical-align: middle;\n",
       "    }\n",
       "\n",
       "    .dataframe tbody tr th {\n",
       "        vertical-align: top;\n",
       "    }\n",
       "\n",
       "    .dataframe thead th {\n",
       "        text-align: right;\n",
       "    }\n",
       "</style>\n",
       "<table border=\"1\" class=\"dataframe\">\n",
       "  <thead>\n",
       "    <tr style=\"text-align: right;\">\n",
       "      <th></th>\n",
       "      <th>CIS</th>\n",
       "      <th>Тип</th>\n",
       "      <th>Название компетенции</th>\n",
       "      <th>Name of competence</th>\n",
       "      <th>Статус компетенции</th>\n",
       "      <th>Блок компетенций</th>\n",
       "    </tr>\n",
       "  </thead>\n",
       "  <tbody>\n",
       "    <tr>\n",
       "      <td>1</td>\n",
       "      <td>E57</td>\n",
       "      <td>WSE</td>\n",
       "      <td>Администрирование отеля</td>\n",
       "      <td>Hotel receptioning</td>\n",
       "      <td>1) Основная</td>\n",
       "      <td>Сфера услуг</td>\n",
       "    </tr>\n",
       "    <tr>\n",
       "      <td>3</td>\n",
       "      <td>8</td>\n",
       "      <td>WSI</td>\n",
       "      <td>Архитектурная обработка камня</td>\n",
       "      <td>Architectural Stonemasonry</td>\n",
       "      <td>1) Основная</td>\n",
       "      <td>технологии</td>\n",
       "    </tr>\n",
       "    <tr>\n",
       "      <td>6</td>\n",
       "      <td>17</td>\n",
       "      <td>WSI</td>\n",
       "      <td>Веб-дизайн и разработка</td>\n",
       "      <td>Web Technologies</td>\n",
       "      <td>1) Основная</td>\n",
       "      <td>технологии</td>\n",
       "    </tr>\n",
       "    <tr>\n",
       "      <td>7</td>\n",
       "      <td>R56</td>\n",
       "      <td>RU</td>\n",
       "      <td>Ветеринария</td>\n",
       "      <td>Veterinary</td>\n",
       "      <td>1) Основная</td>\n",
       "      <td>Сфера услуг</td>\n",
       "    </tr>\n",
       "    <tr>\n",
       "      <td>8</td>\n",
       "      <td>R1</td>\n",
       "      <td>RU</td>\n",
       "      <td>Видеопроизводство</td>\n",
       "      <td>Video Production</td>\n",
       "      <td>1) Основная</td>\n",
       "      <td>Творчество и дизайн</td>\n",
       "    </tr>\n",
       "    <tr>\n",
       "      <td>...</td>\n",
       "      <td>...</td>\n",
       "      <td>...</td>\n",
       "      <td>...</td>\n",
       "      <td>...</td>\n",
       "      <td>...</td>\n",
       "      <td>...</td>\n",
       "    </tr>\n",
       "    <tr>\n",
       "      <td>9</td>\n",
       "      <td>T32</td>\n",
       "      <td>RU</td>\n",
       "      <td>Цифровой модельер</td>\n",
       "      <td>Digital fashion designer</td>\n",
       "      <td>3) Кандидат в\\rпрезентационную</td>\n",
       "      <td>Творчество и дизайн</td>\n",
       "    </tr>\n",
       "    <tr>\n",
       "      <td>10</td>\n",
       "      <td>T5</td>\n",
       "      <td>RU</td>\n",
       "      <td>Эксплуатация грузового речного\\rтранспорта</td>\n",
       "      <td>Operation of river freight transport</td>\n",
       "      <td>3) Кандидат в\\rпрезентационную</td>\n",
       "      <td>Транспорт и логистика</td>\n",
       "    </tr>\n",
       "    <tr>\n",
       "      <td>11</td>\n",
       "      <td>T75</td>\n",
       "      <td>RU</td>\n",
       "      <td>Эксплуатация сервисных роботов</td>\n",
       "      <td>Operation of service robots</td>\n",
       "      <td>3) Кандидат в\\rпрезентационную</td>\n",
       "      <td>Производство и инженерные\\rтехнологии</td>\n",
       "    </tr>\n",
       "    <tr>\n",
       "      <td>12</td>\n",
       "      <td>R61</td>\n",
       "      <td>RU</td>\n",
       "      <td>Электрослесарь подземный</td>\n",
       "      <td>Underground Electrician</td>\n",
       "      <td>3) Кандидат в\\rпрезентационную</td>\n",
       "      <td>Производство и инженерные\\rтехнологии</td>\n",
       "    </tr>\n",
       "    <tr>\n",
       "      <td>13</td>\n",
       "      <td>T80</td>\n",
       "      <td>RU</td>\n",
       "      <td>Технология энергоаудита</td>\n",
       "      <td>Energy audit technology</td>\n",
       "      <td>3) Кандидат в\\rпрезентационную</td>\n",
       "      <td>Производство и инженерные\\rтехнологии</td>\n",
       "    </tr>\n",
       "  </tbody>\n",
       "</table>\n",
       "<p>181 rows × 6 columns</p>\n",
       "</div>"
      ],
      "text/plain": [
       "0   CIS  Тип                        Название компетенции  \\\n",
       "1   E57  WSE                     Администрирование отеля   \n",
       "3     8  WSI               Архитектурная обработка камня   \n",
       "6    17  WSI                     Веб-дизайн и разработка   \n",
       "7   R56   RU                                 Ветеринария   \n",
       "8    R1   RU                           Видеопроизводство   \n",
       "..  ...  ...                                         ...   \n",
       "9   T32   RU                           Цифровой модельер   \n",
       "10   T5   RU  Эксплуатация грузового речного\\rтранспорта   \n",
       "11  T75   RU              Эксплуатация сервисных роботов   \n",
       "12  R61   RU                    Электрослесарь подземный   \n",
       "13  T80   RU                     Технология энергоаудита   \n",
       "\n",
       "0                     Name of competence              Статус компетенции  \\\n",
       "1                     Hotel receptioning                     1) Основная   \n",
       "3             Architectural Stonemasonry                     1) Основная   \n",
       "6                       Web Technologies                     1) Основная   \n",
       "7                             Veterinary                     1) Основная   \n",
       "8                       Video Production                     1) Основная   \n",
       "..                                   ...                             ...   \n",
       "9               Digital fashion designer  3) Кандидат в\\rпрезентационную   \n",
       "10  Operation of river freight transport  3) Кандидат в\\rпрезентационную   \n",
       "11           Operation of service robots  3) Кандидат в\\rпрезентационную   \n",
       "12               Underground Electrician  3) Кандидат в\\rпрезентационную   \n",
       "13               Energy audit technology  3) Кандидат в\\rпрезентационную   \n",
       "\n",
       "0                        Блок компетенций  \n",
       "1                             Сфера услуг  \n",
       "3                              технологии  \n",
       "6                              технологии  \n",
       "7                             Сфера услуг  \n",
       "8                     Творчество и дизайн  \n",
       "..                                    ...  \n",
       "9                     Творчество и дизайн  \n",
       "10                  Транспорт и логистика  \n",
       "11  Производство и инженерные\\rтехнологии  \n",
       "12  Производство и инженерные\\rтехнологии  \n",
       "13  Производство и инженерные\\rтехнологии  \n",
       "\n",
       "[181 rows x 6 columns]"
      ]
     },
     "execution_count": 34,
     "metadata": {},
     "output_type": "execute_result"
    }
   ],
   "source": [
    "DF"
   ]
  },
  {
   "cell_type": "code",
   "execution_count": 36,
   "metadata": {},
   "outputs": [],
   "source": [
    "DF.to_csv(\"clear_data.csv\", encoding=\"utf-8\")"
   ]
  },
  {
   "cell_type": "code",
   "execution_count": null,
   "metadata": {},
   "outputs": [],
   "source": []
  }
 ],
 "metadata": {
  "kernelspec": {
   "display_name": "Python 3",
   "language": "python",
   "name": "python3"
  },
  "language_info": {
   "codemirror_mode": {
    "name": "ipython",
    "version": 3
   },
   "file_extension": ".py",
   "mimetype": "text/x-python",
   "name": "python",
   "nbconvert_exporter": "python",
   "pygments_lexer": "ipython3",
   "version": "3.7.4"
  }
 },
 "nbformat": 4,
 "nbformat_minor": 2
}
