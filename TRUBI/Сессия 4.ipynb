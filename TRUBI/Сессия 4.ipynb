{
 "cells": [
  {
   "cell_type": "markdown",
   "metadata": {},
   "source": [
    "# Сессия 4"
   ]
  },
  {
   "cell_type": "code",
   "execution_count": 57,
   "metadata": {},
   "outputs": [],
   "source": [
    "import pandas as pd\n",
    "import matplotlib.pyplot as plt\n",
    "%matplotlib inline\n",
    "import seaborn as sns \n",
    "import warnings\n",
    "warnings.filterwarnings(\"ignore\")"
   ]
  },
  {
   "cell_type": "markdown",
   "metadata": {},
   "source": [
    "читаем и предобрабатываем данные"
   ]
  },
  {
   "cell_type": "code",
   "execution_count": 2,
   "metadata": {},
   "outputs": [],
   "source": [
    "sop1 = pd.read_csv(\"sop1_t.csv\", index_col=0)\n",
    "sop2 = pd.read_csv(\"sop2_t.csv\", index_col=0)\n",
    "sop3 = pd.read_csv(\"sop3_t.csv\", index_col=0)"
   ]
  },
  {
   "cell_type": "code",
   "execution_count": 3,
   "metadata": {},
   "outputs": [],
   "source": [
    "k3 = pd.read_csv(\"./Results/Results/К3.dat\", engine=\"python\", sep=\"\\s+\", header=None, skiprows=1, index_col=0)\n",
    "k16 = pd.read_csv(\"./Results/Results/К16.dat\", engine=\"python\", sep=\"\\s+\", header=None, skiprows=1, index_col=0)\n",
    "k22 = pd.read_csv(\"./Results/Results/К22.dat\", engine=\"python\", sep=\"\\s+\", header=None, skiprows=1, index_col=0)\n",
    "k24 = pd.read_csv(\"./Results/Results/К24.dat\", engine=\"python\", sep=\"\\s+\", header=None, skiprows=1, index_col=0)\n",
    "k28 = pd.read_csv(\"./Results/Results/К28.dat\", engine=\"python\", sep=\"\\s+\", header=None, skiprows=1, index_col=0)"
   ]
  },
  {
   "cell_type": "code",
   "execution_count": 4,
   "metadata": {},
   "outputs": [],
   "source": [
    "k3 = k3.reset_index()\n",
    "k3 = k3.drop([0],axis=1)\n",
    "k22 = k22.reset_index()\n",
    "k22 = k22.drop([0],axis=1)\n",
    "k16 = k16.reset_index()\n",
    "k16 = k16.drop([0],axis=1)\n",
    "k24 = k24.reset_index()\n",
    "k24 = k24.drop([0],axis=1)\n",
    "k28 = k28.reset_index()\n",
    "k28 = k28.drop([0],axis=1)"
   ]
  },
  {
   "cell_type": "code",
   "execution_count": 5,
   "metadata": {},
   "outputs": [],
   "source": [
    "t3 = pd.read_csv(\"./Target/Target/k3.csv\").fillna(3)\n",
    "t16 = pd.read_csv(\"./Target/Target/k16.csv\").fillna(3)\n",
    "t22 = pd.read_csv(\"./Target/Target/k22.csv\").fillna(3)\n",
    "t24 = pd.read_csv(\"./Target/Target/k24.csv\").fillna(3)\n",
    "t28 = pd.read_csv(\"./Target/Target/k28.csv\").fillna(3)"
   ]
  },
  {
   "cell_type": "markdown",
   "metadata": {},
   "source": [
    "Делеам сдвиги"
   ]
  },
  {
   "cell_type": "code",
   "execution_count": 6,
   "metadata": {},
   "outputs": [],
   "source": [
    "hord = [1,2,7,8,11,12,13,14,15,16]\n",
    "rs=[3,4,5,6,10]"
   ]
  },
  {
   "cell_type": "code",
   "execution_count": 7,
   "metadata": {},
   "outputs": [],
   "source": [
    "def sh(data):\n",
    "    for i in hord:\n",
    "        data[i] = pd.concat([data[i][145:],data[i][:145]],ignore_index=True)\n",
    "    for i in rs:\n",
    "        data[i] = pd.concat([data[i][50:],data[i][:50]],ignore_index=True)"
   ]
  },
  {
   "cell_type": "code",
   "execution_count": 8,
   "metadata": {},
   "outputs": [],
   "source": [
    "for i in [k3,k16,k22,k24,k28]:\n",
    "    sh(i)"
   ]
  },
  {
   "cell_type": "markdown",
   "metadata": {},
   "source": [
    "Создаем новые переменные"
   ]
  },
  {
   "cell_type": "code",
   "execution_count": 9,
   "metadata": {},
   "outputs": [],
   "source": [
    "E = [1, 3, 7, 8]\n",
    "EC = [9, 11, 15, 16]\n",
    "SH = [5, 6, 13, 14]"
   ]
  },
  {
   "cell_type": "code",
   "execution_count": 10,
   "metadata": {},
   "outputs": [],
   "source": [
    "def newvals(df, data, n):\n",
    "    df[n + \"_mean\"]=data.mean(axis=1)\n",
    "    df[n + \"_median\"]=data.median(axis=1)\n",
    "    df[n + \"_std\"]=data.std(axis=1)\n",
    "    df[n + \"_min\"]=data.min(axis=1)\n",
    "    df[n + \"_max\"]=data.max(axis=1)"
   ]
  },
  {
   "cell_type": "code",
   "execution_count": 11,
   "metadata": {},
   "outputs": [],
   "source": [
    "for i in [k3,k16,k22,k24,k28]:\n",
    "    newvals(i, i[E], \"echo\")\n",
    "    newvals(i, i[EC], \"echo_cont\")\n",
    "    newvals(i, i[SH], \"shadow\")\n"
   ]
  },
  {
   "cell_type": "code",
   "execution_count": 12,
   "metadata": {},
   "outputs": [],
   "source": [
    "nv=[]\n",
    "for i in [\"echo\",\"echo_cont\",\"shadow\"]:\n",
    "    for j in [\"_mean\",\"_median\",\"_std\",\"_min\",\"_max\",]:\n",
    "        nv.append(i+j)"
   ]
  },
  {
   "cell_type": "markdown",
   "metadata": {},
   "source": [
    "Обрезаем "
   ]
  },
  {
   "cell_type": "code",
   "execution_count": 13,
   "metadata": {},
   "outputs": [],
   "source": [
    "k3 = k3[:1020]\n",
    "k16 = k16[:1020]\n",
    "k22 = k22[:1020]\n",
    "k24 = k24[:1020]\n",
    "k28 = k28[:1020]"
   ]
  },
  {
   "cell_type": "markdown",
   "metadata": {},
   "source": [
    "Обрабатываем и создаем новые таргетные значения  для каждого из параметров: Начало, длина, высота, тип и сторона "
   ]
  },
  {
   "cell_type": "code",
   "execution_count": 14,
   "metadata": {},
   "outputs": [],
   "source": [
    "Tlen=[]\n",
    "for tar in [t3,t16,t22,t24,t28]:\n",
    "    tmp = pd.DataFrame(data=[0]*1020, columns=[\"T\"])\n",
    "    for start, leng in zip(tar[\"Начало дефекта\"],tar[\"Длина дефекта\"]):\n",
    "        tmp[start:start+int(leng)] = 1\n",
    "    Tlen.append(tmp)"
   ]
  },
  {
   "cell_type": "code",
   "execution_count": 15,
   "metadata": {},
   "outputs": [],
   "source": [
    "Tst=[]\n",
    "for tar in [t3,t16,t22,t24,t28]:\n",
    "    tmp = pd.DataFrame(data=[0]*1020)\n",
    "    for start, leng in zip(tar[\"Начало дефекта\"],tar[\"Длина дефекта\"]):\n",
    "        tmp[start:start+int(leng)] = start\n",
    "    Tst.append(tmp)"
   ]
  },
  {
   "cell_type": "code",
   "execution_count": 16,
   "metadata": {},
   "outputs": [],
   "source": [
    "THeight = []\n",
    "for tar in [t3,t16,t22,t24,t28]:\n",
    "    tmp = pd.DataFrame(data=[0]*1020)\n",
    "    for start, leng, heig in zip(tar[\"Начало дефекта\"],tar[\"Длина дефекта\"],tar[\"Высота дефекта\"]):\n",
    "        tmp[start:start+int(leng)] = heig\n",
    "    THeight.append(tmp)"
   ]
  },
  {
   "cell_type": "code",
   "execution_count": 17,
   "metadata": {},
   "outputs": [],
   "source": [
    "def toInt(t):\n",
    "    t[\"Тип дефекта\"]=t[\"Тип дефекта\"].replace({\"L\": 0, \"T\": 1})\n",
    "    t[\"Сторона\"]=t[\"Сторона\"].replace({\"A\": 0, \"B\": 1, \" \": 2})"
   ]
  },
  {
   "cell_type": "code",
   "execution_count": 18,
   "metadata": {},
   "outputs": [],
   "source": [
    "toInt(t3)\n",
    "toInt(t16)\n",
    "toInt(t22)\n",
    "toInt(t24)\n",
    "toInt(t28)"
   ]
  },
  {
   "cell_type": "code",
   "execution_count": 19,
   "metadata": {},
   "outputs": [],
   "source": [
    "Ttype = []\n",
    "for tar in [t3,t16,t22,t24,t28]:\n",
    "    tmp = pd.DataFrame(data=[3]*1020)\n",
    "    for start, leng, typ in zip(tar[\"Начало дефекта\"],tar[\"Длина дефекта\"],tar[\"Тип дефекта\"]):\n",
    "        tmp[start:start+int(leng)] = typ\n",
    "    Ttype.append(tmp)"
   ]
  },
  {
   "cell_type": "code",
   "execution_count": 23,
   "metadata": {},
   "outputs": [],
   "source": [
    "Tside = []\n",
    "for tar in [t3,t16,t22,t24,t28]:\n",
    "    tmp = pd.DataFrame(data=[3]*1020)\n",
    "    for start, leng, side in zip(tar[\"Начало дефекта\"],tar[\"Длина дефекта\"],tar[\"Сторона\"]):\n",
    "        tmp[start:start+int(leng)] = side\n",
    "    Tside.append(tmp)\n",
    "    "
   ]
  },
  {
   "cell_type": "code",
   "execution_count": 21,
   "metadata": {},
   "outputs": [],
   "source": [
    "k28 = k28.append(k28.iloc[1018],ignore_index=True)"
   ]
  },
  {
   "cell_type": "markdown",
   "metadata": {},
   "source": [
    "есть k3,k16,k22,k24,k28 это данные и есть Tlen Tst THeight Ttype Tside это массивы с метками по разным категориям. Объеденим к3 и к28 в тренировочную выборку а остальное в тестовую. мы так объеденили потому что в к3 и в к28 есть необходимые нам данные для обучения в нормально количестве"
   ]
  },
  {
   "cell_type": "code",
   "execution_count": 45,
   "metadata": {},
   "outputs": [],
   "source": [
    "data_train = pd.concat([k3,k28])"
   ]
  },
  {
   "cell_type": "code",
   "execution_count": 33,
   "metadata": {},
   "outputs": [],
   "source": [
    "data_test = pd.concat([k16,k22,k24])"
   ]
  },
  {
   "cell_type": "code",
   "execution_count": 34,
   "metadata": {},
   "outputs": [],
   "source": [
    "tar_train_len = pd.concat([Tlen[0],Tlen[-1]])\n",
    "tar_train_st = pd.concat([Tst[0],Tst[-1]])\n",
    "tar_train_heig = pd.concat([THeight[0],THeight[-1]])\n",
    "tar_train_type = pd.concat([Ttype[0],Ttype[-1]])\n",
    "tar_train_side = pd.concat([Tside[0],Tside[-1]])"
   ]
  },
  {
   "cell_type": "code",
   "execution_count": 35,
   "metadata": {},
   "outputs": [],
   "source": [
    "tar_test_len = pd.concat([Tlen[1],Tlen[2],Tlen[3]])\n",
    "tar_test_st = pd.concat([Tst[1],Tst[2],Tst[3]])\n",
    "tar_test_heig = pd.concat([THeight[1],THeight[2],THeight[3]])\n",
    "tar_test_type = pd.concat([Ttype[1],Ttype[2],Ttype[3]])\n",
    "tar_test_side = pd.concat([Tside[1],Tside[2],Tside[3]])"
   ]
  },
  {
   "cell_type": "markdown",
   "metadata": {},
   "source": [
    "Сохраняем "
   ]
  },
  {
   "cell_type": "code",
   "execution_count": 46,
   "metadata": {},
   "outputs": [],
   "source": [
    "data_train.to_csv(\"./myTrainTest/data_train.csv\")\n",
    "data_test.to_csv(\"./myTrainTest/data_test.csv\")\n",
    "\n",
    "tar_train_len.to_csv(\"./myTrainTest/tar_train_len.csv\")\n",
    "tar_train_st.to_csv(\"./myTrainTest/tar_train_st.csv\")\n",
    "tar_train_heig.to_csv(\"./myTrainTest/tar_train_heig.csv\")\n",
    "tar_train_type.to_csv(\"./myTrainTest/tar_train_type.csv\")\n",
    "tar_train_side.to_csv(\"./myTrainTest/tar_train_side.csv\")\n",
    "\n",
    "tar_test_len.to_csv(\"./myTrainTest/tar_test_len.csv\")\n",
    "tar_test_st.to_csv(\"./myTrainTest/tar_test_st.csv\")\n",
    "tar_test_heig.to_csv(\"./myTrainTest/tar_test_heig.csv\")\n",
    "tar_test_type.to_csv(\"./myTrainTest/tar_test_type.csv\")\n",
    "tar_test_side.to_csv(\"./myTrainTest/tar_test_side.csv\")"
   ]
  },
  {
   "cell_type": "markdown",
   "metadata": {},
   "source": [
    "Этап моделирования, возьмем 7 разных классификаторов и выясним какой из них будет лучше работать "
   ]
  },
  {
   "cell_type": "code",
   "execution_count": 38,
   "metadata": {},
   "outputs": [],
   "source": [
    "from sklearn.model_selection import train_test_split\n",
    "\n",
    "from sklearn.linear_model import LogisticRegression\n",
    "from sklearn.discriminant_analysis import LinearDiscriminantAnalysis  \n",
    "from sklearn.neighbors import KNeighborsClassifier  \n",
    "from sklearn.naive_bayes import GaussianNB  \n",
    "from sklearn.tree import DecisionTreeClassifier  \n",
    "from sklearn.svm import SVC\n",
    "from sklearn.ensemble import RandomForestClassifier"
   ]
  },
  {
   "cell_type": "code",
   "execution_count": 51,
   "metadata": {},
   "outputs": [],
   "source": [
    "models = [LogisticRegression(random_state=42),\n",
    "          LinearDiscriminantAnalysis(),\n",
    "          KNeighborsClassifier(n_neighbors=5), \n",
    "          GaussianNB(),\n",
    "          DecisionTreeClassifier(random_state=42),\n",
    "          SVC(random_state=42),\n",
    "          RandomForestClassifier(random_state=42, n_estimators=100), \n",
    "          ]"
   ]
  },
  {
   "cell_type": "code",
   "execution_count": 47,
   "metadata": {},
   "outputs": [],
   "source": [
    "dftr = pd.concat([sop2,sop3])\n",
    "dftest = sop1"
   ]
  },
  {
   "cell_type": "code",
   "execution_count": 52,
   "metadata": {},
   "outputs": [],
   "source": [
    "X_train = dftr.drop(\"target\", axis=1)\n",
    "y_train = dftr[\"target\"]\n",
    "\n",
    "X_test = dftest.drop(\"target\", axis=1)\n",
    "y_test = dftest[\"target\"]"
   ]
  },
  {
   "cell_type": "code",
   "execution_count": 53,
   "metadata": {},
   "outputs": [],
   "source": [
    "from sklearn.metrics import classification_report  \n",
    "from sklearn.metrics import confusion_matrix  \n",
    "from sklearn.metrics import accuracy_score  "
   ]
  },
  {
   "cell_type": "markdown",
   "metadata": {},
   "source": [
    "Код по обучению, предсказанию, подсчету точности, построению матрицы ошибок и отчету о классификации"
   ]
  },
  {
   "cell_type": "code",
   "execution_count": 60,
   "metadata": {},
   "outputs": [
    {
     "name": "stdout",
     "output_type": "stream",
     "text": [
      "LogisticRegression(C=1.0, class_weight=None, dual=False, fit_intercept=True,\n",
      "                   intercept_scaling=1, l1_ratio=None, max_iter=100,\n",
      "                   multi_class='warn', n_jobs=None, penalty='l2',\n",
      "                   random_state=42, solver='warn', tol=0.0001, verbose=0,\n",
      "                   warm_start=False)\n",
      "accuracy_score 0.9196078431372549\n",
      "LinearDiscriminantAnalysis(n_components=None, priors=None, shrinkage=None,\n",
      "                           solver='svd', store_covariance=False, tol=0.0001)\n",
      "accuracy_score 0.9098039215686274\n",
      "KNeighborsClassifier(algorithm='auto', leaf_size=30, metric='minkowski',\n",
      "                     metric_params=None, n_jobs=None, n_neighbors=5, p=2,\n",
      "                     weights='uniform')\n",
      "accuracy_score 0.8852941176470588\n",
      "GaussianNB(priors=None, var_smoothing=1e-09)\n",
      "accuracy_score 0.9156862745098039\n",
      "DecisionTreeClassifier(class_weight=None, criterion='gini', max_depth=None,\n",
      "                       max_features=None, max_leaf_nodes=None,\n",
      "                       min_impurity_decrease=0.0, min_impurity_split=None,\n",
      "                       min_samples_leaf=1, min_samples_split=2,\n",
      "                       min_weight_fraction_leaf=0.0, presort=False,\n",
      "                       random_state=42, splitter='best')\n",
      "accuracy_score 0.8156862745098039\n",
      "SVC(C=1.0, cache_size=200, class_weight=None, coef0=0.0,\n",
      "    decision_function_shape='ovr', degree=3, gamma='auto_deprecated',\n",
      "    kernel='rbf', max_iter=-1, probability=False, random_state=42,\n",
      "    shrinking=True, tol=0.001, verbose=False)\n",
      "accuracy_score 0.7166666666666667\n",
      "RandomForestClassifier(bootstrap=True, class_weight=None, criterion='gini',\n",
      "                       max_depth=None, max_features='auto', max_leaf_nodes=None,\n",
      "                       min_impurity_decrease=0.0, min_impurity_split=None,\n",
      "                       min_samples_leaf=1, min_samples_split=2,\n",
      "                       min_weight_fraction_leaf=0.0, n_estimators=100,\n",
      "                       n_jobs=None, oob_score=False, random_state=42, verbose=0,\n",
      "                       warm_start=False)\n",
      "accuracy_score 0.9156862745098039\n"
     ]
    }
   ],
   "source": [
    "TestModels = pd.DataFrame()\n",
    "tmp = {}\n",
    "\n",
    "for model in models:\n",
    "    print(model)\n",
    "    m = str(model)\n",
    "    tmp['Model'] = m[:m.index('(')]\n",
    "    \n",
    "    model.fit(X_train, y_train)\n",
    "    pred = model.predict(X_test)\n",
    "    tmp['accuracy_score'] = accuracy_score(pred, y_test)\n",
    "    tmp['classification_report'] = classification_report(pred, y_test)\n",
    "    tmp['confusion_matrix'] = confusion_matrix(pred, y_test)\n",
    "    \n",
    "    print('accuracy_score', accuracy_score(pred, y_test))\n",
    "#     print('classification_report', classification_report(pred, y_test))\n",
    "#     print('confusion_matrix', confusion_matrix(pred, y_test))\n",
    "#     print(\"++++++++++++++++++++++++++++++++++++++++++++++++++++++++++++\")\n",
    "    TestModels = TestModels.append([tmp])\n",
    "TestModels.set_index('Model', inplace=True)\n",
    "\n",
    " \n"
   ]
  },
  {
   "cell_type": "markdown",
   "metadata": {},
   "source": [
    "Логистическая регрессия показала лучший результат с точностью 91.9%"
   ]
  },
  {
   "cell_type": "code",
   "execution_count": 61,
   "metadata": {},
   "outputs": [
    {
     "data": {
      "image/png": "[encoded data removed]",
      "text/plain": [
       "<Figure size 504x504 with 1 Axes>"
      ]
     },
     "metadata": {
      "needs_background": "light"
     },
     "output_type": "display_data"
    }
   ],
   "source": [
    "fig, axes = plt.subplots(ncols=1, figsize=(7, 7))\n",
    "TestModels.accuracy_score.plot(ax=axes, kind='bar', title='accuracy_score')\n",
    "plt.show()"
   ]
  },
  {
   "cell_type": "code",
   "execution_count": 74,
   "metadata": {},
   "outputs": [
    {
     "data": {
      "image/png": "[encoded data removed]",
      "text/plain": [
       "<Figure size 720x360 with 8 Axes>"
      ]
     },
     "metadata": {
      "needs_background": "light"
     },
     "output_type": "display_data"
    }
   ],
   "source": [
    "fig, axes = plt.subplots(ncols=4,nrows=2, figsize=(10,5))"
   ]
  },
  {
   "cell_type": "code",
   "execution_count": 75,
   "metadata": {},
   "outputs": [
    {
     "data": {
      "image/png": "[encoded data removed]",
      "text/plain": [
       "<Figure size 720x360 with 15 Axes>"
      ]
     },
     "execution_count": 75,
     "metadata": {},
     "output_type": "execute_result"
    }
   ],
   "source": [
    "a=[]\n",
    "for i in axes:\n",
    "    for j in i:\n",
    "        a.append(j)\n",
    "for i, ax, tit in zip(TestModels[\"confusion_matrix\"], a, TestModels.index):\n",
    "    sns.heatmap(i,ax=ax).set_title(tit)\n",
    "fig"
   ]
  },
  {
   "cell_type": "markdown",
   "metadata": {},
   "source": [
    "Нахождение промежутков из нашего предсказания"
   ]
  },
  {
   "cell_type": "code",
   "execution_count": 79,
   "metadata": {},
   "outputs": [],
   "source": [
    "mas=[]\n",
    "for i in range(len(pred)):\n",
    "    if pred[i]!=0:\n",
    "        mas.append(i)"
   ]
  },
  {
   "cell_type": "code",
   "execution_count": 87,
   "metadata": {},
   "outputs": [
    {
     "name": "stdout",
     "output_type": "stream",
     "text": [
      "55 91\n",
      "202 233\n",
      "286 303\n",
      "305 306\n",
      "308 314\n",
      "357 357\n",
      "361 406\n",
      "467 479\n",
      "507 507\n",
      "621 621\n",
      "627 631\n",
      "641 642\n",
      "747 747\n",
      "848 874\n",
      "969 1008\n"
     ]
    }
   ],
   "source": [
    "print(mas[0], end=' ')\n",
    "for i in range(len(mas)-1):\n",
    "    if mas[i]+1 != mas[i+1]:\n",
    "        print(mas[i])\n",
    "        print(mas[i+1], end = \" \")\n",
    "print(mas[-1])"
   ]
  },
  {
   "cell_type": "markdown",
   "metadata": {},
   "source": [
    "Сохраняем модель для её дальнейшего использования"
   ]
  },
  {
   "cell_type": "code",
   "execution_count": 88,
   "metadata": {},
   "outputs": [],
   "source": [
    "import pickle"
   ]
  },
  {
   "cell_type": "code",
   "execution_count": 89,
   "metadata": {},
   "outputs": [],
   "source": [
    "pkl_filename = \"LR_model.pkl\"\n",
    "with open(pkl_filename, 'wb') as file:\n",
    "    pickle.dump(model, file)"
   ]
  },
  {
   "cell_type": "code",
   "execution_count": null,
   "metadata": {},
   "outputs": [],
   "source": []
  }
 ],
 "metadata": {
  "kernelspec": {
   "display_name": "Python 3",
   "language": "python",
   "name": "python3"
  },
  "language_info": {
   "codemirror_mode": {
    "name": "ipython",
    "version": 3
   },
   "file_extension": ".py",
   "mimetype": "text/x-python",
   "name": "python",
   "nbconvert_exporter": "python",
   "pygments_lexer": "ipython3",
   "version": "3.7.4"
  }
 },
 "nbformat": 4,
 "nbformat_minor": 2
}
