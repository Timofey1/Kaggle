{
 "cells": [
  {
   "cell_type": "markdown",
   "metadata": {},
   "source": [
    "# Сессия 3<br>\n",
    "В данной сессии нам предстоит обучить наши выбранные модели на тестовых данных и проверить точность. Далее настроить подбор гиперпараметров и выбрать наилучший результат"
   ]
  },
  {
   "cell_type": "code",
   "execution_count": 1,
   "metadata": {},
   "outputs": [],
   "source": [
    "# импорты \n",
    "import pandas as pd \n",
    "import matplotlib.pyplot as plt \n",
    "%matplotlib inline\n",
    "from sklearn.feature_extraction.text import CountVectorizer\n",
    "from sklearn.feature_extraction.text import TfidfTransformer\n",
    "import warnings\n",
    "warnings.filterwarnings(\"ignore\")"
   ]
  },
  {
   "cell_type": "markdown",
   "metadata": {},
   "source": [
    "### Загрузка данных"
   ]
  },
  {
   "cell_type": "code",
   "execution_count": 2,
   "metadata": {},
   "outputs": [],
   "source": [
    "df = pd.read_csv(\"fullData.csv\", index_col=0)"
   ]
  },
  {
   "cell_type": "code",
   "execution_count": 3,
   "metadata": {},
   "outputs": [],
   "source": [
    "oneTar = pd.read_csv(\"OneTAR.csv\", index_col=0)"
   ]
  },
  {
   "cell_type": "code",
   "execution_count": 4,
   "metadata": {},
   "outputs": [],
   "source": [
    "from sklearn.pipeline import Pipeline\n",
    "from sklearn.metrics import accuracy_score\n",
    "\n",
    "from sklearn.linear_model import LogisticRegression\n",
    "from sklearn.neighbors import KNeighborsClassifier  \n",
    "from sklearn.ensemble import RandomForestClassifier"
   ]
  },
  {
   "cell_type": "markdown",
   "metadata": {},
   "source": [
    "#### Подготовка данных к обучению, разделение на тестовую и тренировочную выборки"
   ]
  },
  {
   "cell_type": "code",
   "execution_count": 5,
   "metadata": {},
   "outputs": [],
   "source": [
    "from sklearn.model_selection import train_test_split"
   ]
  },
  {
   "cell_type": "code",
   "execution_count": 6,
   "metadata": {},
   "outputs": [],
   "source": [
    "dr=[]\n",
    "for i in range(oneTar.shape[0]):\n",
    "    if \"Юниоры\" in oneTar[\"T\"][i] or \"юниоры\" in oneTar[\"T\"][i]:\n",
    "        dr.append(i)"
   ]
  },
  {
   "cell_type": "code",
   "execution_count": 7,
   "metadata": {},
   "outputs": [],
   "source": [
    "oneTar.drop(dr,axis=0,inplace=True)"
   ]
  },
  {
   "cell_type": "code",
   "execution_count": 8,
   "metadata": {},
   "outputs": [],
   "source": [
    "oneTar.reset_index(drop=True, inplace=True)"
   ]
  },
  {
   "cell_type": "code",
   "execution_count": 9,
   "metadata": {},
   "outputs": [],
   "source": [
    "dr=[]\n",
    "for i in range(df.shape[0]):\n",
    "    if \"Юниоры\" in df[\"Компетенция\"][i] or \"юниоры\" in df[\"Компетенция\"][i]:\n",
    "        dr.append(i)"
   ]
  },
  {
   "cell_type": "code",
   "execution_count": 10,
   "metadata": {},
   "outputs": [],
   "source": [
    "df.drop(dr,axis=0,inplace=True)"
   ]
  },
  {
   "cell_type": "code",
   "execution_count": 11,
   "metadata": {},
   "outputs": [],
   "source": [
    "df.reset_index(drop=True, inplace=True)"
   ]
  },
  {
   "cell_type": "code",
   "execution_count": 12,
   "metadata": {},
   "outputs": [],
   "source": [
    "cv = CountVectorizer()\n",
    "tf = TfidfTransformer()"
   ]
  },
  {
   "cell_type": "code",
   "execution_count": 13,
   "metadata": {},
   "outputs": [],
   "source": [
    "Xtr = oneTar[\"W\"]\n",
    "ytr = oneTar[\"T\"]"
   ]
  },
  {
   "cell_type": "code",
   "execution_count": 14,
   "metadata": {},
   "outputs": [],
   "source": [
    "Xtrcv = cv.fit_transform(Xtr)\n",
    "Xtrtf = tf.fit_transform(Xtrcv)"
   ]
  },
  {
   "cell_type": "code",
   "execution_count": 15,
   "metadata": {},
   "outputs": [],
   "source": [
    "df.dropna(subset=[\"Чистые слова\"], inplace=True)"
   ]
  },
  {
   "cell_type": "code",
   "execution_count": 16,
   "metadata": {},
   "outputs": [],
   "source": [
    "Xtest = df[\"Чистые слова\"]\n",
    "ytest = df[\"Компетенция\"]"
   ]
  },
  {
   "cell_type": "code",
   "execution_count": 17,
   "metadata": {},
   "outputs": [],
   "source": [
    "models = [LogisticRegression(),\n",
    "          KNeighborsClassifier(n_neighbors=5), \n",
    "          RandomForestClassifier(random_state=42, n_estimators=100), \n",
    "          ]"
   ]
  },
  {
   "cell_type": "markdown",
   "metadata": {},
   "source": [
    "#### Мы используем три модели без каких либо параметров, как видно ниже все модели справились примерно одинакого и не очень хорошо. Тем не менее лучше всего справился метод случайных соседей с точностью 20%"
   ]
  },
  {
   "cell_type": "code",
   "execution_count": 18,
   "metadata": {},
   "outputs": [
    {
     "name": "stdout",
     "output_type": "stream",
     "text": [
      "LogisticRegression()\n",
      "accuracy_score 0.07610146862483311\n",
      "KNeighborsClassifier()\n",
      "accuracy_score 0.19893190921228304\n",
      "RandomForestClassifier(random_state=42)\n",
      "accuracy_score 0.1054739652870494\n"
     ]
    }
   ],
   "source": [
    "TestModels = pd.DataFrame()\n",
    "temp = {}\n",
    "for model in models:\n",
    "    m = str(model)\n",
    "    print(m)\n",
    "    temp['Model'] = m[:m.index('(')]\n",
    "    \n",
    "    text_clf = Pipeline([('vect', CountVectorizer()),\n",
    "                      ('tfidf', TfidfTransformer()),\n",
    "                      ('clf', model),\n",
    "    ])\n",
    "    \n",
    "    text_clf = text_clf.fit(Xtr, ytr)\n",
    "    pred = text_clf.predict(Xtest)\n",
    "    \n",
    "    temp['accuracy_score'] = accuracy_score(pred, ytest)\n",
    "    print('accuracy_score', accuracy_score(pred, ytest))\n",
    "    TestModels = TestModels.append([temp])\n",
    "TestModels.set_index('Model', inplace=True)"
   ]
  },
  {
   "cell_type": "markdown",
   "metadata": {},
   "source": [
    "### Проведем подбор гиперпараметров, это должно улучшить точность моделей"
   ]
  },
  {
   "cell_type": "code",
   "execution_count": 19,
   "metadata": {},
   "outputs": [],
   "source": [
    "LR = LogisticRegression()\n",
    "KNC = KNeighborsClassifier()\n",
    "RFC = RandomForestClassifier()"
   ]
  },
  {
   "cell_type": "code",
   "execution_count": 20,
   "metadata": {},
   "outputs": [],
   "source": [
    "# Параметры для LogisticRegression()\n",
    "C = [10,25,50,100,150]\n",
    "solver = ['newton-cg', 'sag', 'saga', 'lbfgs']\n",
    "\n",
    "# Параметры для RandomForestClassifier()\n",
    "n_estimators = [50,100,200,300,500]\n",
    "max_features = [.5,.7]\n",
    "max_depth = [3,6]\n",
    "\n",
    "# Параметры для KNeighborsClassifier()\n",
    "n_neighbors=[5,10,15,20]\n",
    "p=[1,2]"
   ]
  },
  {
   "cell_type": "markdown",
   "metadata": {},
   "source": [
    "### Ниже функция которая считает точность переданной ей модели "
   ]
  },
  {
   "cell_type": "code",
   "execution_count": 21,
   "metadata": {},
   "outputs": [],
   "source": [
    "def paramsearch(model):\n",
    "    text_clf = Pipeline([('vect', CountVectorizer()),\n",
    "                  ('tfidf', TfidfTransformer()),\n",
    "                  ('clf', model),\n",
    "    ])\n",
    "    text_clf = text_clf.fit(Xtr, ytr)\n",
    "    pred = text_clf.predict(Xtest)\n",
    "    # print('accuracy_score', accuracy_score(pred, ytest))\n",
    "    return accuracy_score(pred, ytest)"
   ]
  },
  {
   "cell_type": "markdown",
   "metadata": {},
   "source": [
    "#### Сделаем полный перебор по всем параметрам для каждой модели и запишем это в датафрейм"
   ]
  },
  {
   "cell_type": "code",
   "execution_count": 22,
   "metadata": {},
   "outputs": [
    {
     "name": "stdout",
     "output_type": "stream",
     "text": [
      "d d d d d d d d d d d d d d d d d d d d "
     ]
    }
   ],
   "source": [
    "lrdf = pd.DataFrame()\n",
    "tmp = {}\n",
    "for i in C:\n",
    "    for j in solver:\n",
    "        tmp[\"C\"] = i\n",
    "        tmp[\"solver\"] = j\n",
    "        LR.C = i\n",
    "        LR.solver = j\n",
    "        ac = paramsearch(LR)\n",
    "        tmp[\"acc\"] = ac\n",
    "        lrdf = lrdf.append([tmp])\n",
    "        print(\"d\", end=\" \")"
   ]
  },
  {
   "cell_type": "code",
   "execution_count": 23,
   "metadata": {},
   "outputs": [
    {
     "name": "stdout",
     "output_type": "stream",
     "text": [
      "d d d d d d d d "
     ]
    }
   ],
   "source": [
    "kncdf = pd.DataFrame()\n",
    "tmp = {}\n",
    "for i in n_neighbors:\n",
    "    for j in p:\n",
    "        tmp[\"n_neighbors\"] = i\n",
    "        tmp[\"p\"] = j\n",
    "        KNC.n_neighbors = i\n",
    "        KNC.p = j\n",
    "        ac = paramsearch(KNC)\n",
    "        tmp[\"acc\"] = ac\n",
    "        kncdf = kncdf.append([tmp])\n",
    "        print(\"d\", end=\" \")"
   ]
  },
  {
   "cell_type": "code",
   "execution_count": 24,
   "metadata": {},
   "outputs": [
    {
     "name": "stdout",
     "output_type": "stream",
     "text": [
      "d d d d d d d d d d d d d d d d d d d d "
     ]
    }
   ],
   "source": [
    "rfdf = pd.DataFrame()\n",
    "tmp = {}\n",
    "for i in n_estimators:\n",
    "    for j in max_features:\n",
    "        for x in max_depth:\n",
    "            tmp[\"n_estimators\"] = i\n",
    "            tmp[\"max_features\"] = j\n",
    "            tmp[\"max_depth\"] = x\n",
    "            RFC.n_estimators = i\n",
    "            RFC.max_features = j\n",
    "            RFC.max_depth = x\n",
    "            ac = paramsearch(RFC)\n",
    "            tmp[\"acc\"] = ac\n",
    "            rfdf = rfdf.append([tmp])\n",
    "            print(\"d\", end=\" \")"
   ]
  },
  {
   "cell_type": "markdown",
   "metadata": {},
   "source": [
    "#### Найдем в каждом датафрейме значение с максимальной точностью это и будут наши гиперпараметры "
   ]
  },
  {
   "cell_type": "code",
   "execution_count": 25,
   "metadata": {},
   "outputs": [
    {
     "data": {
      "text/html": [
       "<div>\n",
       "<style scoped>\n",
       "    .dataframe tbody tr th:only-of-type {\n",
       "        vertical-align: middle;\n",
       "    }\n",
       "\n",
       "    .dataframe tbody tr th {\n",
       "        vertical-align: top;\n",
       "    }\n",
       "\n",
       "    .dataframe thead th {\n",
       "        text-align: right;\n",
       "    }\n",
       "</style>\n",
       "<table border=\"1\" class=\"dataframe\">\n",
       "  <thead>\n",
       "    <tr style=\"text-align: right;\">\n",
       "      <th></th>\n",
       "      <th>C</th>\n",
       "      <th>solver</th>\n",
       "      <th>acc</th>\n",
       "    </tr>\n",
       "  </thead>\n",
       "  <tbody>\n",
       "    <tr>\n",
       "      <th>0</th>\n",
       "      <td>25</td>\n",
       "      <td>sag</td>\n",
       "      <td>0.742323</td>\n",
       "    </tr>\n",
       "  </tbody>\n",
       "</table>\n",
       "</div>"
      ],
      "text/plain": [
       "    C solver       acc\n",
       "0  25    sag  0.742323"
      ]
     },
     "execution_count": 25,
     "metadata": {},
     "output_type": "execute_result"
    }
   ],
   "source": [
    "lrdf[lrdf[\"acc\"] == lrdf[\"acc\"].max()]"
   ]
  },
  {
   "cell_type": "code",
   "execution_count": 26,
   "metadata": {},
   "outputs": [
    {
     "data": {
      "text/html": [
       "<div>\n",
       "<style scoped>\n",
       "    .dataframe tbody tr th:only-of-type {\n",
       "        vertical-align: middle;\n",
       "    }\n",
       "\n",
       "    .dataframe tbody tr th {\n",
       "        vertical-align: top;\n",
       "    }\n",
       "\n",
       "    .dataframe thead th {\n",
       "        text-align: right;\n",
       "    }\n",
       "</style>\n",
       "<table border=\"1\" class=\"dataframe\">\n",
       "  <thead>\n",
       "    <tr style=\"text-align: right;\">\n",
       "      <th></th>\n",
       "      <th>n_neighbors</th>\n",
       "      <th>p</th>\n",
       "      <th>acc</th>\n",
       "    </tr>\n",
       "  </thead>\n",
       "  <tbody>\n",
       "    <tr>\n",
       "      <th>0</th>\n",
       "      <td>5</td>\n",
       "      <td>2</td>\n",
       "      <td>0.198932</td>\n",
       "    </tr>\n",
       "  </tbody>\n",
       "</table>\n",
       "</div>"
      ],
      "text/plain": [
       "   n_neighbors  p       acc\n",
       "0            5  2  0.198932"
      ]
     },
     "execution_count": 26,
     "metadata": {},
     "output_type": "execute_result"
    }
   ],
   "source": [
    "kncdf[kncdf[\"acc\"] == kncdf[\"acc\"].max()]"
   ]
  },
  {
   "cell_type": "code",
   "execution_count": 27,
   "metadata": {},
   "outputs": [
    {
     "data": {
      "text/html": [
       "<div>\n",
       "<style scoped>\n",
       "    .dataframe tbody tr th:only-of-type {\n",
       "        vertical-align: middle;\n",
       "    }\n",
       "\n",
       "    .dataframe tbody tr th {\n",
       "        vertical-align: top;\n",
       "    }\n",
       "\n",
       "    .dataframe thead th {\n",
       "        text-align: right;\n",
       "    }\n",
       "</style>\n",
       "<table border=\"1\" class=\"dataframe\">\n",
       "  <thead>\n",
       "    <tr style=\"text-align: right;\">\n",
       "      <th></th>\n",
       "      <th>n_estimators</th>\n",
       "      <th>max_features</th>\n",
       "      <th>max_depth</th>\n",
       "      <th>acc</th>\n",
       "    </tr>\n",
       "  </thead>\n",
       "  <tbody>\n",
       "    <tr>\n",
       "      <th>0</th>\n",
       "      <td>500</td>\n",
       "      <td>0.5</td>\n",
       "      <td>6</td>\n",
       "      <td>0.339119</td>\n",
       "    </tr>\n",
       "  </tbody>\n",
       "</table>\n",
       "</div>"
      ],
      "text/plain": [
       "   n_estimators  max_features  max_depth       acc\n",
       "0           500           0.5          6  0.339119"
      ]
     },
     "execution_count": 27,
     "metadata": {},
     "output_type": "execute_result"
    }
   ],
   "source": [
    "rfdf[rfdf[\"acc\"] == rfdf[\"acc\"].max()]"
   ]
  },
  {
   "cell_type": "markdown",
   "metadata": {},
   "source": [
    "#### Как видно лучший результат дает логистическая регрессия с точностью в 74% с гиперпараметрами `{\"C\": 25, \"solver\": \"saga\"}`"
   ]
  },
  {
   "cell_type": "code",
   "execution_count": 28,
   "metadata": {},
   "outputs": [],
   "source": [
    "lr = LogisticRegression(C=25, solver=\"saga\")\n",
    "text_clf = Pipeline([('vect', CountVectorizer()),\n",
    "                  ('tfidf', TfidfTransformer()),\n",
    "                  ('clf', lr),\n",
    "    ])\n",
    "text_clf = text_clf.fit(Xtr, ytr)\n"
   ]
  },
  {
   "cell_type": "code",
   "execution_count": 29,
   "metadata": {},
   "outputs": [],
   "source": [
    "import pickle"
   ]
  },
  {
   "cell_type": "code",
   "execution_count": 30,
   "metadata": {},
   "outputs": [],
   "source": [
    "with open(\"model.pkl\", 'wb') as file:\n",
    "    pickle.dump(text_clf, file)\n"
   ]
  },
  {
   "cell_type": "code",
   "execution_count": 31,
   "metadata": {},
   "outputs": [],
   "source": [
    "w = df[\"Чистые слова\"][4]"
   ]
  },
  {
   "cell_type": "code",
   "execution_count": 38,
   "metadata": {},
   "outputs": [],
   "source": [
    "pred = text_clf.predict([w])\n"
   ]
  },
  {
   "cell_type": "code",
   "execution_count": 39,
   "metadata": {},
   "outputs": [
    {
     "data": {
      "text/plain": [
       "array(['Медицинская оптика'], dtype=object)"
      ]
     },
     "execution_count": 39,
     "metadata": {},
     "output_type": "execute_result"
    }
   ],
   "source": [
    "pred"
   ]
  },
  {
   "cell_type": "code",
   "execution_count": null,
   "metadata": {},
   "outputs": [],
   "source": []
  }
 ],
 "metadata": {
  "kernelspec": {
   "display_name": "Python 3",
   "language": "python",
   "name": "python3"
  },
  "language_info": {
   "codemirror_mode": {
    "name": "ipython",
    "version": 3
   },
   "file_extension": ".py",
   "mimetype": "text/x-python",
   "name": "python",
   "nbconvert_exporter": "python",
   "pygments_lexer": "ipython3",
   "version": "3.7.4"
  }
 },
 "nbformat": 4,
 "nbformat_minor": 2
}
